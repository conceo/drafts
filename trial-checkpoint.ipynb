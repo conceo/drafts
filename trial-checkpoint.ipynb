{
 "cells": [
  {
   "cell_type": "markdown",
   "metadata": {},
   "source": [
    "# Trial"
   ]
  },
  {
   "cell_type": "code",
   "execution_count": 2,
   "metadata": {},
   "outputs": [],
   "source": [
    "import ipysheet\n",
    "from ipysheet import sheet, calculation, column, row, from_dataframe, to_dataframe, from_array, to_array, cell\n",
    "import ipywidgets \n",
    "from ipywidgets import FloatSlider\n",
    "import pandas as pd\n",
    "import numpy as np"
   ]
  },
  {
   "cell_type": "code",
   "execution_count": null,
   "metadata": {},
   "outputs": [],
   "source": []
  },
  {
   "cell_type": "code",
   "execution_count": 182,
   "metadata": {},
   "outputs": [],
   "source": [
    "## Anzahl Vergleichsunternehmen n \n",
    "n=4\n",
    "tax = 0.3"
   ]
  },
  {
   "cell_type": "code",
   "execution_count": 210,
   "metadata": {
    "code_folding": []
   },
   "outputs": [
    {
     "data": {
      "application/vnd.jupyter.widget-view+json": {
       "model_id": "031c8566e9494250b3174344594737a1",
       "version_major": 2,
       "version_minor": 0
      },
      "text/plain": [
       "Sheet(cells=(Cell(column_end=0, column_start=0, row_end=0, row_start=0, type='text', value=' '), Cell(column_e…"
      ]
     },
     "metadata": {},
     "output_type": "display_data"
    }
   ],
   "source": [
    "df2 = pd.read_excel('beta.xlsx', header = 1)\n",
    "head = []\n",
    "for d in df2.columns:\n",
    "    d = d.split(',')\n",
    "    head.append(d[0])\n",
    "\n",
    "row = []\n",
    "for i in range(n):\n",
    "    row.append(' ')\n",
    "row.append('Median')\n",
    "row.append('Mittelwert')\n",
    "\n",
    "mysheet = ipysheet.sheet(rows=6,columns=10, row_headers = row, column_headers = head)\n",
    "\n",
    "betalist = []\n",
    "x = []\n",
    "\n",
    "                \n",
    "for count in range(10):\n",
    "    if count == 0:\n",
    "        for i in range(n):\n",
    "            x.append(ipysheet.cell(row=i, column=0, value = ' ', type = 'text'))\n",
    "    \n",
    "#     if count == 3:\n",
    "#         for i in range(n):\n",
    "#             x.append(ipysheet.cell(row=i, column=0, value = 0, type = 'numeric', read_only = True))\n",
    "    \n",
    "    else:\n",
    "        for i in range(n):\n",
    "            x.append(ipysheet.cell(row=i,column=count, value = 0))\n",
    "    betalist.append(x)\n",
    "    x = []\n",
    "\n",
    "medianbeta = cell(4,2, value=np.median([b.value for b in betalist[2]]), color = 'green')\n",
    "medianmF = cell(4,3, value=np.median([b.value for b in betalist[3]]), color = 'green')\n",
    "medianmE = cell(4,4, value=np.median([b.value for b in betalist[4]]), color = 'green')\n",
    "medianratio1 = cell(4,5, value=np.median([b.value for b in betalist[5]]), color = 'green')\n",
    "medianratio2 = cell(4,6, value=np.median([b.value for b in betalist[6]]), color = 'green')\n",
    "mediantax = cell(4,7, value=np.median([b.value for b in betalist[7]]), color = 'green')\n",
    "medianunb = cell(4,8, value=np.median([b.value for b in betalist[8]]), color = 'green')\n",
    "\n",
    "meanbeta = cell(5,2, value=np.mean([b.value for b in betalist[2]]), color = 'green')\n",
    "meanmF = cell(5,3, value=np.mean([b.value for b in betalist[3]]), color = 'green')\n",
    "meanmE = cell(5,4, value=np.mean([b.value for b in betalist[4]]), color = 'green')\n",
    "meanratio1 = cell(5,5, value=np.mean([b.value for b in betalist[5]]), color = 'green')\n",
    "meanratio2 = cell(5,6, value=np.mean([b.value for b in betalist[6]]), color = 'green')\n",
    "meantax = cell(5,7, value=np.mean([b.value for b in betalist[7]]), color = 'green')\n",
    "meanunb = cell(5,8, value=np.mean([b.value for b in betalist[8]]), color = 'green')\n",
    "\n",
    "revbeta = cell(4,9, value = medianunb.value*(1+medianratio1.value*(1-tax)))\n",
    "\n",
    "    \n",
    "def update(change):\n",
    "    for i in range(len(betalist[3])):\n",
    "        betalist[3][i].value = betalist[2][i].value * betalist[1][i].value\n",
    "        betalist[6][i].value = (betalist[4][i].value / (betalist[4][i].value + betalist[3][i].value))\n",
    "        \n",
    "        \n",
    "    medianbeta = cell(4,2, value=np.median([b.value for b in betalist[2]]), color = 'green')\n",
    "    medianmF = cell(4,3, value=np.median([b.value for b in betalist[3]]), color = 'green')\n",
    "    medianmE = cell(4,4, value=np.median([b.value for b in betalist[4]]), color = 'green')\n",
    "    medianratio1 = cell(4,5, value=np.median([b.value for b in betalist[5]]), color = 'green')\n",
    "    medianratio2 = cell(4,6, value=np.median([b.value for b in betalist[6]]), color = 'green')\n",
    "    mediantax = cell(4,7, value=np.median([b.value for b in betalist[7]]), color = 'green')\n",
    "    medianunb = cell(4,8, value=np.median([b.value for b in betalist[8]]), color = 'green')\n",
    "    \n",
    "    revbeta = cell(4,9, value = medianunb.value*(1+medianratio1.value*(1-tax)))\n",
    "    \n",
    "    meanbeta = cell(5,2, value=np.mean([b.value for b in betalist[2]]), color = 'green')\n",
    "    meanmF = cell(5,3, value=np.mean([b.value for b in betalist[3]]), color = 'green')\n",
    "    meanmE = cell(5,4, value=np.mean([b.value for b in betalist[4]]), color = 'green')\n",
    "    meanratio1 = cell(5,5, value=np.mean([b.value for b in betalist[5]]), color = 'green')\n",
    "    meanratio2 = cell(5,6, value=np.mean([b.value for b in betalist[6]]), color = 'green')\n",
    "    meantax = cell(5,7, value=np.mean([b.value for b in betalist[7]]), color = 'green')\n",
    "    meanunb = cell(5,8, value=np.mean([b.value for b in betalist[8]]), color = 'green')\n",
    "    \n",
    "#Observe\n",
    "for i in range(4):\n",
    "    betalist[2][i].observe(update, 'value')  \n",
    "    betalist[3][i].observe(update, 'value')  \n",
    "    betalist[4][i].observe(update, 'value')  \n",
    "    betalist[5][i].observe(update, 'value')  \n",
    "    betalist[6][i].observe(update, 'value')  \n",
    "    betalist[7][i].observe(update, 'value')  \n",
    "    betalist[8][i].observe(update, 'value')  \n",
    "    \n",
    "                               \n",
    "mysheet"
   ]
  },
  {
   "cell_type": "code",
   "execution_count": 196,
   "metadata": {},
   "outputs": [
    {
     "data": {
      "text/plain": [
       "4"
      ]
     },
     "execution_count": 196,
     "metadata": {},
     "output_type": "execute_result"
    }
   ],
   "source": [
    "len(betalist[3])"
   ]
  },
  {
   "cell_type": "code",
   "execution_count": 187,
   "metadata": {},
   "outputs": [],
   "source": [
    "df = to_dataframe(mysheet)\n",
    "df4 = df.transpose(copy=True)\n",
    "beta2 = from_dataframe(df4)"
   ]
  },
  {
   "cell_type": "code",
   "execution_count": 188,
   "metadata": {},
   "outputs": [
    {
     "data": {
      "text/html": [
       "<div>\n",
       "<style scoped>\n",
       "    .dataframe tbody tr th:only-of-type {\n",
       "        vertical-align: middle;\n",
       "    }\n",
       "\n",
       "    .dataframe tbody tr th {\n",
       "        vertical-align: top;\n",
       "    }\n",
       "\n",
       "    .dataframe thead th {\n",
       "        text-align: right;\n",
       "    }\n",
       "</style>\n",
       "<table border=\"1\" class=\"dataframe\">\n",
       "  <thead>\n",
       "    <tr style=\"text-align: right;\">\n",
       "      <th></th>\n",
       "      <th></th>\n",
       "      <th></th>\n",
       "      <th></th>\n",
       "      <th></th>\n",
       "      <th>Median</th>\n",
       "      <th>Mittelwert</th>\n",
       "    </tr>\n",
       "  </thead>\n",
       "  <tbody>\n",
       "    <tr>\n",
       "      <th></th>\n",
       "      <td>0.0</td>\n",
       "      <td>0.0</td>\n",
       "      <td>0.0</td>\n",
       "      <td>0.0</td>\n",
       "      <td>0.0</td>\n",
       "      <td>0.0</td>\n",
       "    </tr>\n",
       "    <tr>\n",
       "      <th></th>\n",
       "      <td>0.0</td>\n",
       "      <td>0.0</td>\n",
       "      <td>0.0</td>\n",
       "      <td>0.0</td>\n",
       "      <td>0.0</td>\n",
       "      <td>0.0</td>\n",
       "    </tr>\n",
       "    <tr>\n",
       "      <th></th>\n",
       "      <td>0.0</td>\n",
       "      <td>0.0</td>\n",
       "      <td>0.0</td>\n",
       "      <td>0.0</td>\n",
       "      <td>0.0</td>\n",
       "      <td>0.0</td>\n",
       "    </tr>\n",
       "    <tr>\n",
       "      <th></th>\n",
       "      <td>0.0</td>\n",
       "      <td>0.0</td>\n",
       "      <td>0.0</td>\n",
       "      <td>0.0</td>\n",
       "      <td>0.0</td>\n",
       "      <td>0.0</td>\n",
       "    </tr>\n",
       "    <tr>\n",
       "      <th>Median</th>\n",
       "      <td>0.0</td>\n",
       "      <td>0.0</td>\n",
       "      <td>0.0</td>\n",
       "      <td>0.0</td>\n",
       "      <td>0.0</td>\n",
       "      <td>0.0</td>\n",
       "    </tr>\n",
       "    <tr>\n",
       "      <th>Mittelwert</th>\n",
       "      <td>0.0</td>\n",
       "      <td>0.0</td>\n",
       "      <td>0.0</td>\n",
       "      <td>0.0</td>\n",
       "      <td>0.0</td>\n",
       "      <td>0.0</td>\n",
       "    </tr>\n",
       "  </tbody>\n",
       "</table>\n",
       "</div>"
      ],
      "text/plain": [
       "                                Median  Mittelwert\n",
       "            0.0  0.0  0.0  0.0     0.0         0.0\n",
       "            0.0  0.0  0.0  0.0     0.0         0.0\n",
       "            0.0  0.0  0.0  0.0     0.0         0.0\n",
       "            0.0  0.0  0.0  0.0     0.0         0.0\n",
       "Median      0.0  0.0  0.0  0.0     0.0         0.0\n",
       "Mittelwert  0.0  0.0  0.0  0.0     0.0         0.0"
      ]
     },
     "execution_count": 188,
     "metadata": {},
     "output_type": "execute_result"
    }
   ],
   "source": [
    "df4"
   ]
  },
  {
   "cell_type": "code",
   "execution_count": 176,
   "metadata": {},
   "outputs": [
    {
     "data": {
      "application/vnd.jupyter.widget-view+json": {
       "model_id": "6bdf409cfe86468380e42998a31f4535",
       "version_major": 2,
       "version_minor": 0
      },
      "text/plain": [
       "Sheet(cells=(Cell(column_end=0, column_start=0, numeric_format=None, row_end=9, row_start=0, squeeze_row=False…"
      ]
     },
     "metadata": {},
     "output_type": "display_data"
    }
   ],
   "source": [
    "beta2 = from_dataframe(df2)"
   ]
  },
  {
   "cell_type": "code",
   "execution_count": null,
   "metadata": {},
   "outputs": [],
   "source": [
    "##Oder Import"
   ]
  },
  {
   "cell_type": "code",
   "execution_count": 75,
   "metadata": {},
   "outputs": [
    {
     "ename": "TypeError",
     "evalue": "combine() missing 1 required positional argument: 'func'",
     "output_type": "error",
     "traceback": [
      "\u001b[1;31m---------------------------------------------------------------------------\u001b[0m",
      "\u001b[1;31mTypeError\u001b[0m                                 Traceback (most recent call last)",
      "\u001b[1;32m<ipython-input-75-d719cbdd89a2>\u001b[0m in \u001b[0;36m<module>\u001b[1;34m\u001b[0m\n\u001b[0;32m      3\u001b[0m \u001b[1;31m# x = [[0,0,0,0,0,0,0,0,0,0], columns = hat]\u001b[0m\u001b[1;33m\u001b[0m\u001b[1;33m\u001b[0m\u001b[1;33m\u001b[0m\u001b[0m\n\u001b[0;32m      4\u001b[0m \u001b[0mdf3\u001b[0m\u001b[1;33m=\u001b[0m \u001b[0mpd\u001b[0m\u001b[1;33m.\u001b[0m\u001b[0mDataFrame\u001b[0m\u001b[1;33m(\u001b[0m\u001b[1;33m[\u001b[0m\u001b[1;36m0\u001b[0m\u001b[1;33m,\u001b[0m\u001b[1;36m0\u001b[0m\u001b[1;33m,\u001b[0m\u001b[1;36m0\u001b[0m\u001b[1;33m,\u001b[0m\u001b[1;36m0\u001b[0m\u001b[1;33m,\u001b[0m\u001b[1;36m0\u001b[0m\u001b[1;33m,\u001b[0m\u001b[1;36m0\u001b[0m\u001b[1;33m,\u001b[0m\u001b[1;36m0\u001b[0m\u001b[1;33m,\u001b[0m\u001b[1;36m0\u001b[0m\u001b[1;33m,\u001b[0m\u001b[1;36m0\u001b[0m\u001b[1;33m,\u001b[0m\u001b[1;36m0\u001b[0m\u001b[1;33m]\u001b[0m\u001b[1;33m)\u001b[0m\u001b[1;33m\u001b[0m\u001b[1;33m\u001b[0m\u001b[0m\n\u001b[1;32m----> 5\u001b[1;33m \u001b[0mdf2\u001b[0m\u001b[1;33m.\u001b[0m\u001b[0mcombine\u001b[0m\u001b[1;33m(\u001b[0m\u001b[0mdf3\u001b[0m\u001b[1;33m)\u001b[0m\u001b[1;33m\u001b[0m\u001b[1;33m\u001b[0m\u001b[0m\n\u001b[0m\u001b[0;32m      6\u001b[0m \u001b[0mbeta\u001b[0m \u001b[1;33m=\u001b[0m \u001b[0mfrom_dataframe\u001b[0m\u001b[1;33m(\u001b[0m\u001b[0mdf2\u001b[0m\u001b[1;33m)\u001b[0m\u001b[1;33m\u001b[0m\u001b[1;33m\u001b[0m\u001b[0m\n\u001b[0;32m      7\u001b[0m \u001b[1;31m#beta = ipysheet.sheet(rows=7,columns=10)\u001b[0m\u001b[1;33m\u001b[0m\u001b[1;33m\u001b[0m\u001b[1;33m\u001b[0m\u001b[0m\n",
      "\u001b[1;31mTypeError\u001b[0m: combine() missing 1 required positional argument: 'func'"
     ]
    }
   ],
   "source": [
    "\n",
    "df2 = pd.read_excel('beta.xlsx', header = 1)\n",
    "hat = df2.head(0)\n",
    "# x = [[0,0,0,0,0,0,0,0,0,0], columns = hat]\n",
    "df3= pd.DataFrame([0,0,0,0,0,0,0,0,0,0])\n",
    "df2.combine(df3)\n",
    "beta = from_dataframe(df2)\n",
    "#beta = ipysheet.sheet(rows=7,columns=10)\n",
    "\n",
    "beta"
   ]
  },
  {
   "cell_type": "code",
   "execution_count": 70,
   "metadata": {},
   "outputs": [
    {
     "data": {
      "text/html": [
       "<div>\n",
       "<style scoped>\n",
       "    .dataframe tbody tr th:only-of-type {\n",
       "        vertical-align: middle;\n",
       "    }\n",
       "\n",
       "    .dataframe tbody tr th {\n",
       "        vertical-align: top;\n",
       "    }\n",
       "\n",
       "    .dataframe thead th {\n",
       "        text-align: right;\n",
       "    }\n",
       "</style>\n",
       "<table border=\"1\" class=\"dataframe\">\n",
       "  <thead>\n",
       "    <tr style=\"text-align: right;\">\n",
       "      <th></th>\n",
       "      <th>Vergleichsunternehmen</th>\n",
       "      <th>Tägl. Handels-volumen (30T)</th>\n",
       "      <th>Levered Beta</th>\n",
       "      <th>Marktwert d. Fremdkapitals</th>\n",
       "      <th>Marktwert d. Eigenkapitals</th>\n",
       "      <th>Fremdkapital / Eigenkapital</th>\n",
       "      <th>Eigenkapital / Vermögen</th>\n",
       "      <th>Steuersatz</th>\n",
       "      <th>Unlevered Beta</th>\n",
       "      <th>Relevered Beta</th>\n",
       "    </tr>\n",
       "  </thead>\n",
       "  <tbody>\n",
       "  </tbody>\n",
       "</table>\n",
       "</div>"
      ],
      "text/plain": [
       "Empty DataFrame\n",
       "Columns: [Vergleichsunternehmen, Tägl. Handels-volumen (30T) , Levered Beta, Marktwert d. Fremdkapitals, Marktwert d. Eigenkapitals, Fremdkapital / Eigenkapital, Eigenkapital / Vermögen, Steuersatz, Unlevered Beta, Relevered Beta]\n",
       "Index: []"
      ]
     },
     "execution_count": 70,
     "metadata": {},
     "output_type": "execute_result"
    }
   ],
   "source": [
    "hat"
   ]
  },
  {
   "cell_type": "code",
   "execution_count": 64,
   "metadata": {},
   "outputs": [
    {
     "ename": "AttributeError",
     "evalue": "'Sheet' object has no attribute 'append'",
     "output_type": "error",
     "traceback": [
      "\u001b[1;31m---------------------------------------------------------------------------\u001b[0m",
      "\u001b[1;31mAttributeError\u001b[0m                            Traceback (most recent call last)",
      "\u001b[1;32m<ipython-input-64-b01371fbc74f>\u001b[0m in \u001b[0;36m<module>\u001b[1;34m\u001b[0m\n\u001b[1;32m----> 1\u001b[1;33m \u001b[0mbeta\u001b[0m\u001b[1;33m.\u001b[0m\u001b[0mappend\u001b[0m\u001b[1;33m(\u001b[0m\u001b[0mmedian\u001b[0m \u001b[1;33m=\u001b[0m \u001b[1;33m[\u001b[0m\u001b[1;34m'1'\u001b[0m\u001b[1;33m,\u001b[0m\u001b[1;34m'1'\u001b[0m\u001b[1;33m,\u001b[0m\u001b[1;34m'1'\u001b[0m\u001b[1;33m,\u001b[0m\u001b[1;34m'1'\u001b[0m\u001b[1;33m,\u001b[0m\u001b[1;34m'1'\u001b[0m\u001b[1;33m,\u001b[0m\u001b[1;34m'1'\u001b[0m\u001b[1;33m,\u001b[0m\u001b[1;34m'1'\u001b[0m\u001b[1;33m,\u001b[0m\u001b[1;34m'1'\u001b[0m\u001b[1;33m,\u001b[0m\u001b[1;34m'1'\u001b[0m\u001b[1;34m'1'\u001b[0m\u001b[1;33m]\u001b[0m\u001b[1;33m)\u001b[0m\u001b[1;33m\u001b[0m\u001b[1;33m\u001b[0m\u001b[0m\n\u001b[0m\u001b[0;32m      2\u001b[0m \u001b[1;33m\u001b[0m\u001b[0m\n\u001b[0;32m      3\u001b[0m \u001b[0mmedian\u001b[0m \u001b[1;33m=\u001b[0m \u001b[0mrow\u001b[0m\u001b[1;33m(\u001b[0m\u001b[1;36m4\u001b[0m\u001b[1;33m,\u001b[0m \u001b[0mmedian\u001b[0m\u001b[1;33m)\u001b[0m\u001b[1;33m\u001b[0m\u001b[1;33m\u001b[0m\u001b[0m\n",
      "\u001b[1;31mAttributeError\u001b[0m: 'Sheet' object has no attribute 'append'"
     ]
    }
   ],
   "source": [
    "median = ['1','1','1','1','1','1','1','1','1''1']\n",
    "\n",
    "median = row(4, median)"
   ]
  },
  {
   "cell_type": "code",
   "execution_count": null,
   "metadata": {},
   "outputs": [],
   "source": []
  }
 ],
 "metadata": {
  "kernelspec": {
   "display_name": "Python 3",
   "language": "python",
   "name": "python3"
  },
  "language_info": {
   "codemirror_mode": {
    "name": "ipython",
    "version": 3
   },
   "file_extension": ".py",
   "mimetype": "text/x-python",
   "name": "python",
   "nbconvert_exporter": "python",
   "pygments_lexer": "ipython3",
   "version": "3.7.6"
  },
  "toc": {
   "base_numbering": 1,
   "nav_menu": {},
   "number_sections": true,
   "sideBar": true,
   "skip_h1_title": false,
   "title_cell": "Table of Contents",
   "title_sidebar": "Contents",
   "toc_cell": false,
   "toc_position": {},
   "toc_section_display": true,
   "toc_window_display": false
  },
  "varInspector": {
   "cols": {
    "lenName": 16,
    "lenType": 16,
    "lenVar": 40
   },
   "kernels_config": {
    "python": {
     "delete_cmd_postfix": "",
     "delete_cmd_prefix": "del ",
     "library": "var_list.py",
     "varRefreshCmd": "print(var_dic_list())"
    },
    "r": {
     "delete_cmd_postfix": ") ",
     "delete_cmd_prefix": "rm(",
     "library": "var_list.r",
     "varRefreshCmd": "cat(var_dic_list()) "
    }
   },
   "types_to_exclude": [
    "module",
    "function",
    "builtin_function_or_method",
    "instance",
    "_Feature"
   ],
   "window_display": false
  }
 },
 "nbformat": 4,
 "nbformat_minor": 4
}
