{
 "cells": [
  {
   "cell_type": "markdown",
   "metadata": {},
   "source": [
    "# Basic sheet"
   ]
  },
  {
   "cell_type": "code",
   "execution_count": 1,
   "metadata": {},
   "outputs": [],
   "source": [
    "import ipysheet\n",
    "from ipysheet import sheet, calculation, column, row, from_dataframe, to_dataframe, from_array, to_array, cell\n",
    "import ipywidgets \n",
    "from ipywidgets import FloatSlider\n",
    "import pandas as pd\n",
    "import numpy as np"
   ]
  },
  {
   "cell_type": "code",
   "execution_count": 2,
   "metadata": {},
   "outputs": [
    {
     "data": {
      "application/vnd.jupyter.widget-view+json": {
       "model_id": "a9ed3ce3f24442d0a8cd1166a5898bf5",
       "version_major": 2,
       "version_minor": 0
      },
      "text/plain": [
       "Sheet(columns=5, layout=Layout(height='auto', width='auto'), rows=5)"
      ]
     },
     "metadata": {},
     "output_type": "display_data"
    }
   ],
   "source": [
    "sheet = ipysheet.sheet(3)\n",
    "\n",
    "sheet"
   ]
  },
  {
   "cell_type": "code",
   "execution_count": 3,
   "metadata": {},
   "outputs": [
    {
     "name": "stdout",
     "output_type": "stream",
     "text": [
      "[1, 2, 3, 4]\n"
     ]
    },
    {
     "data": {
      "application/vnd.jupyter.widget-view+json": {
       "model_id": "74aebdd26c7248b8bf7d8fc8f9dc2944",
       "version_major": 2,
       "version_minor": 0
      },
      "text/plain": [
       "Sheet(cells=(Cell(column_end=0, column_start=0, style={'color': 'orange'}, type='text', value='Rivacon'), Cell…"
      ]
     },
     "metadata": {},
     "output_type": "display_data"
    }
   ],
   "source": [
    "sheet = ipysheet.sheet(rows=5 , columns=4)\n",
    "\n",
    "cell1 = ipysheet.cell(row=3, column=0, value=\"Rivacon\", color=\"orange\")\n",
    "\n",
    "cell2 = ipysheet.cell(row=4, column=3, value=2 , background_color = \"green\")\n",
    "\n",
    "#vllt hübschere Farben importierbar?\n",
    "data = []\n",
    "for i in range(4):\n",
    "    data.append(i+1)\n",
    "\n",
    "print(data)\n",
    "    \n",
    "column1 = column(1, data, row_start=1 )\n",
    "row0 = row(0, data, column_start=0) \n",
    "sheet"
   ]
  },
  {
   "cell_type": "code",
   "execution_count": 5,
   "metadata": {},
   "outputs": [],
   "source": [
    "#   dh problemslos listen als Output meiner Funktionen in Zeile oder Spalte schreibbar\n",
    "\n",
    "#   Sind Spalten/Zeilen als Arrays auslesbar?\n",
    "#   --> conversion to dataframe, von dort als numpy array"
   ]
  },
  {
   "cell_type": "code",
   "execution_count": null,
   "metadata": {},
   "outputs": [],
   "source": []
  },
  {
   "cell_type": "code",
   "execution_count": null,
   "metadata": {},
   "outputs": [],
   "source": []
  },
  {
   "cell_type": "markdown",
   "metadata": {},
   "source": [
    "# Input Sheet used as Numpy Array"
   ]
  },
  {
   "cell_type": "code",
   "execution_count": 4,
   "metadata": {},
   "outputs": [
    {
     "data": {
      "application/vnd.jupyter.widget-view+json": {
       "model_id": "9537f75a440547a6b1b6b143fd17552f",
       "version_major": 2,
       "version_minor": 0
      },
      "text/plain": [
       "Sheet(columns=3, layout=Layout(height='auto', width='auto'))"
      ]
     },
     "metadata": {},
     "output_type": "display_data"
    }
   ],
   "source": [
    "beta = ipysheet.sheet(rows=3, columns=3)\n",
    "beta"
   ]
  },
  {
   "cell_type": "code",
   "execution_count": 5,
   "metadata": {},
   "outputs": [
    {
     "ename": "NameError",
     "evalue": "name 'update' is not defined",
     "output_type": "error",
     "traceback": [
      "\u001b[1;31m---------------------------------------------------------------------------\u001b[0m",
      "\u001b[1;31mNameError\u001b[0m                                 Traceback (most recent call last)",
      "\u001b[1;32m<ipython-input-5-f2dde5530459>\u001b[0m in \u001b[0;36m<module>\u001b[1;34m\u001b[0m\n\u001b[1;32m----> 1\u001b[1;33m \u001b[0mbeta\u001b[0m\u001b[1;33m.\u001b[0m\u001b[0mobserve\u001b[0m\u001b[1;33m(\u001b[0m\u001b[0mupdate\u001b[0m\u001b[1;33m,\u001b[0m\u001b[1;34m'value'\u001b[0m\u001b[1;33m)\u001b[0m\u001b[1;33m\u001b[0m\u001b[1;33m\u001b[0m\u001b[0m\n\u001b[0m",
      "\u001b[1;31mNameError\u001b[0m: name 'update' is not defined"
     ]
    }
   ],
   "source": [
    "beta.observe(update,'value')\n"
   ]
  },
  {
   "cell_type": "code",
   "execution_count": null,
   "metadata": {},
   "outputs": [],
   "source": [
    "df = to_dataframe(beta)"
   ]
  },
  {
   "cell_type": "code",
   "execution_count": null,
   "metadata": {},
   "outputs": [],
   "source": [
    "df"
   ]
  },
  {
   "cell_type": "code",
   "execution_count": null,
   "metadata": {},
   "outputs": [],
   "source": [
    "list = to_array(beta)\n",
    "\n",
    "list"
   ]
  },
  {
   "cell_type": "markdown",
   "metadata": {},
   "source": [
    "# fun extras"
   ]
  },
  {
   "cell_type": "markdown",
   "metadata": {},
   "source": [
    "## Sliders"
   ]
  },
  {
   "cell_type": "code",
   "execution_count": 6,
   "metadata": {},
   "outputs": [
    {
     "data": {
      "application/vnd.jupyter.widget-view+json": {
       "model_id": "fb9f65268f20435bb2de34a8dac94a10",
       "version_major": 2,
       "version_minor": 0
      },
      "text/plain": [
       "Sheet(cells=(Cell(column_end=0, column_start=0, row_end=4, row_start=0, squeeze_row=False, type='widget', valu…"
      ]
     },
     "metadata": {},
     "output_type": "display_data"
    }
   ],
   "source": [
    "mysheet = ipysheet.sheet(rows=5, columns=2)\n",
    "\n",
    "colum1 = column(0, [FloatSlider() for _ in range(5)])\n",
    "column2 = column(1, [i for i in range(5)])\n",
    "\n",
    "mysheet"
   ]
  },
  {
   "cell_type": "code",
   "execution_count": 7,
   "metadata": {},
   "outputs": [
    {
     "data": {
      "text/html": [
       "<div>\n",
       "<style scoped>\n",
       "    .dataframe tbody tr th:only-of-type {\n",
       "        vertical-align: middle;\n",
       "    }\n",
       "\n",
       "    .dataframe tbody tr th {\n",
       "        vertical-align: top;\n",
       "    }\n",
       "\n",
       "    .dataframe thead th {\n",
       "        text-align: right;\n",
       "    }\n",
       "</style>\n",
       "<table border=\"1\" class=\"dataframe\">\n",
       "  <thead>\n",
       "    <tr style=\"text-align: right;\">\n",
       "      <th></th>\n",
       "      <th>A</th>\n",
       "      <th>B</th>\n",
       "    </tr>\n",
       "  </thead>\n",
       "  <tbody>\n",
       "    <tr>\n",
       "      <th>0</th>\n",
       "      <td>0.0</td>\n",
       "      <td>0</td>\n",
       "    </tr>\n",
       "    <tr>\n",
       "      <th>1</th>\n",
       "      <td>0.0</td>\n",
       "      <td>1</td>\n",
       "    </tr>\n",
       "    <tr>\n",
       "      <th>2</th>\n",
       "      <td>0.0</td>\n",
       "      <td>2</td>\n",
       "    </tr>\n",
       "    <tr>\n",
       "      <th>3</th>\n",
       "      <td>0.0</td>\n",
       "      <td>3</td>\n",
       "    </tr>\n",
       "    <tr>\n",
       "      <th>4</th>\n",
       "      <td>0.0</td>\n",
       "      <td>4</td>\n",
       "    </tr>\n",
       "  </tbody>\n",
       "</table>\n",
       "</div>"
      ],
      "text/plain": [
       "     A  B\n",
       "0  0.0  0\n",
       "1  0.0  1\n",
       "2  0.0  2\n",
       "3  0.0  3\n",
       "4  0.0  4"
      ]
     },
     "execution_count": 7,
     "metadata": {},
     "output_type": "execute_result"
    }
   ],
   "source": [
    "df = to_dataframe(mysheet)\n",
    "\n",
    "df"
   ]
  },
  {
   "cell_type": "markdown",
   "metadata": {},
   "source": [
    "## Multiple"
   ]
  },
  {
   "cell_type": "code",
   "execution_count": 8,
   "metadata": {},
   "outputs": [
    {
     "ename": "SyntaxError",
     "evalue": "EOL while scanning string literal (<ipython-input-8-03e715429299>, line 1)",
     "output_type": "error",
     "traceback": [
      "\u001b[1;36m  File \u001b[1;32m\"<ipython-input-8-03e715429299>\"\u001b[1;36m, line \u001b[1;32m1\u001b[0m\n\u001b[1;33m    'newsheet = ipysheet.sheet()\u001b[0m\n\u001b[1;37m                                ^\u001b[0m\n\u001b[1;31mSyntaxError\u001b[0m\u001b[1;31m:\u001b[0m EOL while scanning string literal\n"
     ]
    }
   ],
   "source": [
    "'newsheet = ipysheet.sheet()\n",
    "cells = ipysheet.cell_range([[data],[data]], row_start=1, column_start=1, background_color = 'yellow')\n",
    "\n",
    "\n",
    "newsheet"
   ]
  },
  {
   "cell_type": "code",
   "execution_count": null,
   "metadata": {},
   "outputs": [],
   "source": [
    "df = to_dataframe(newsheet)"
   ]
  },
  {
   "cell_type": "markdown",
   "metadata": {},
   "source": [
    "## Calculations"
   ]
  },
  {
   "cell_type": "code",
   "execution_count": 10,
   "metadata": {},
   "outputs": [
    {
     "data": {
      "text/plain": [
       "[Cell(column_end=2, column_start=2, row_end=0, row_start=0, type='numeric', value=4),\n",
       " Cell(column_end=2, column_start=2, row_end=1, row_start=1, type='numeric', value=8),\n",
       " Cell(column_end=2, column_start=2, row_end=2, row_start=2, type='numeric', value=12)]"
      ]
     },
     "execution_count": 10,
     "metadata": {},
     "output_type": "execute_result"
    }
   ],
   "source": [
    "newsheet = ipysheet.sheet()\n",
    "\n",
    "## ONLINE\n",
    "cell1 = ipysheet.cell(row=0, column=0, value=4)\n",
    "cell2 = ipysheet.cell(row=0, column=1, value=5)\n",
    "cellsum1 = cell(1,1, value=sum([cell1.value,cell2.value]))\n",
    "\n",
    "def update1(change):\n",
    "    cellsum1.value = cell2.value + cell1.value\n",
    "    cellsum.color = 'red'\n",
    "\n",
    "    \n",
    "cell1.observe(update1, 'value')\n",
    "cell2.observe(update1, 'value')\n",
    "\n",
    "\n",
    "\n",
    "## Besser\n",
    "mycells = []\n",
    "for i in range(1,4):\n",
    "    mycells.append( ipysheet.cell(row=i-1,column=2, value = i*4 ))\n",
    "\n",
    "cellsum2 = cell(4,4, value=sum([c.value for c in mycells]), color='red')\n",
    "\n",
    "#Realtime Update\n",
    "def update2(change):\n",
    "    cellsum2= cell(4,4, value=sum([c.value for c in mycells]))\n",
    "    \n",
    "for i in range(len(mycells)):\n",
    "    mycells[i].observe(update2, 'value')\n",
    "\n",
    "\n",
    "\n",
    "cellno = cell(2,3, value='no')\n",
    "cellcolor = cell(3,0, background_color = 'red')\n",
    "newsheet\n",
    "mycells\n",
    "#cells[1].value"
   ]
  },
  {
   "cell_type": "code",
   "execution_count": 38,
   "metadata": {},
   "outputs": [
    {
     "data": {
      "text/html": [
       "<div>\n",
       "<style scoped>\n",
       "    .dataframe tbody tr th:only-of-type {\n",
       "        vertical-align: middle;\n",
       "    }\n",
       "\n",
       "    .dataframe tbody tr th {\n",
       "        vertical-align: top;\n",
       "    }\n",
       "\n",
       "    .dataframe thead th {\n",
       "        text-align: right;\n",
       "    }\n",
       "</style>\n",
       "<table border=\"1\" class=\"dataframe\">\n",
       "  <thead>\n",
       "    <tr style=\"text-align: right;\">\n",
       "      <th></th>\n",
       "      <th>A</th>\n",
       "      <th>B</th>\n",
       "      <th>C</th>\n",
       "      <th>D</th>\n",
       "      <th>E</th>\n",
       "    </tr>\n",
       "  </thead>\n",
       "  <tbody>\n",
       "    <tr>\n",
       "      <th>0</th>\n",
       "      <td>4</td>\n",
       "      <td>5</td>\n",
       "      <td>5</td>\n",
       "      <td>None</td>\n",
       "      <td>None</td>\n",
       "    </tr>\n",
       "    <tr>\n",
       "      <th>1</th>\n",
       "      <td>None</td>\n",
       "      <td>9</td>\n",
       "      <td>8</td>\n",
       "      <td>None</td>\n",
       "      <td>None</td>\n",
       "    </tr>\n",
       "    <tr>\n",
       "      <th>2</th>\n",
       "      <td>None</td>\n",
       "      <td>None</td>\n",
       "      <td>12</td>\n",
       "      <td>no</td>\n",
       "      <td>None</td>\n",
       "    </tr>\n",
       "    <tr>\n",
       "      <th>3</th>\n",
       "      <td>0</td>\n",
       "      <td>None</td>\n",
       "      <td>None</td>\n",
       "      <td>None</td>\n",
       "      <td>None</td>\n",
       "    </tr>\n",
       "    <tr>\n",
       "      <th>4</th>\n",
       "      <td>None</td>\n",
       "      <td>None</td>\n",
       "      <td>None</td>\n",
       "      <td>None</td>\n",
       "      <td>25</td>\n",
       "    </tr>\n",
       "  </tbody>\n",
       "</table>\n",
       "</div>"
      ],
      "text/plain": [
       "      A     B     C     D     E\n",
       "0     4     5     5  None  None\n",
       "1  None     9     8  None  None\n",
       "2  None  None    12    no  None\n",
       "3     0  None  None  None  None\n",
       "4  None  None  None  None    25"
      ]
     },
     "execution_count": 38,
     "metadata": {},
     "output_type": "execute_result"
    }
   ],
   "source": [
    "df = to_dataframe(newsheet)\n",
    "df"
   ]
  },
  {
   "cell_type": "code",
   "execution_count": 31,
   "metadata": {},
   "outputs": [],
   "source": [
    "sheet = ipysheet.sheet()\n",
    "def format_cells(value):\n",
    "    return { 'backgroundColor' : 'orange' if value<0 else 'green'}\n",
    "\n",
    "ipysheet.renderer(code=format_cells, name='negative_orange' )\n",
    "data = [-1,2,-3,2]\n",
    "\n",
    "column1 = column(1, data, row_start=1 )\n",
    "#column = column(0,data)\n",
    "rowe = row(4, data, renderer = 'negative_orange')"
   ]
  },
  {
   "cell_type": "code",
   "execution_count": 32,
   "metadata": {
    "code_folding": []
   },
   "outputs": [
    {
     "data": {
      "application/vnd.jupyter.widget-view+json": {
       "model_id": "d1cb83b1fa6a43ab811256f00acc11e4",
       "version_major": 2,
       "version_minor": 0
      },
      "text/plain": [
       "Sheet(cells=(Cell(column_end=1, column_start=1, row_end=4, row_start=1, squeeze_row=False, type='numeric', val…"
      ]
     },
     "metadata": {},
     "output_type": "display_data"
    }
   ],
   "source": [
    "sheet"
   ]
  },
  {
   "cell_type": "markdown",
   "metadata": {},
   "source": [
    "## Link Cell and Slider "
   ]
  },
  {
   "cell_type": "code",
   "execution_count": 33,
   "metadata": {},
   "outputs": [
    {
     "data": {
      "application/vnd.jupyter.widget-view+json": {
       "model_id": "27fcb15207b6413da9b09f59948ec181",
       "version_major": 2,
       "version_minor": 0
      },
      "text/plain": [
       "VBox(children=(Sheet(cells=(Cell(column_end=0, column_start=0, row_end=0, row_start=0, type='numeric', value=5…"
      ]
     },
     "metadata": {},
     "output_type": "display_data"
    }
   ],
   "source": [
    "paper = ipysheet.sheet(rows=3,columns=3)\n",
    "\n",
    "cell1 = ipysheet.cell(row=0, column=0, value=5)\n",
    "\n",
    "slider = FloatSlider(min=0, max=10, description= 'describe')\n",
    "ipywidgets.jslink((cell1,'value'), (slider, 'value'))\n",
    "\n",
    "ipywidgets.VBox([paper,slider])"
   ]
  },
  {
   "cell_type": "code",
   "execution_count": null,
   "metadata": {},
   "outputs": [],
   "source": [
    "df2 = pd.read_excel('beta.xlsx', header = 1)\n",
    "head = []\n",
    "for d in df2.columns:\n",
    "    d = d.split(',')\n",
    "    head.append(d[0])\n",
    "\n",
    "row = []\n",
    "for i in range(n):\n",
    "    row.append(' ')\n",
    "row.append('Median')\n",
    "row.append('Mittelwert')\n",
    "\n",
    "mysheet = ipysheet.sheet(rows=6,columns=10, row_headers = row, column_headers = head)\n",
    "\n",
    "betalist = []\n",
    "x = ['HIEERRRR']\n",
    "\n",
    "\n",
    "for i in range(10):\n",
    "    betalist.append([0]*4)\n",
    "\n",
    "            \n",
    "#medianbeta = cell(4,2, value=sum([b.value for b in betalist[1][]]), color = green)\n",
    "\n",
    "def update(change):\n",
    "    medianbeta = cell(4,2, value=sum([b.value for b in betalist[2]]), color = green)\n",
    "    \n",
    "for i in range(4):\n",
    "    betalist[i][2].observe(update, 'value')  \n",
    "    \n",
    "\n",
    "\n",
    "mysheet"
   ]
  },
  {
   "cell_type": "code",
   "execution_count": null,
   "metadata": {},
   "outputs": [],
   "source": []
  }
 ],
 "metadata": {
  "kernelspec": {
   "display_name": "Python 3",
   "language": "python",
   "name": "python3"
  },
  "language_info": {
   "codemirror_mode": {
    "name": "ipython",
    "version": 3
   },
   "file_extension": ".py",
   "mimetype": "text/x-python",
   "name": "python",
   "nbconvert_exporter": "python",
   "pygments_lexer": "ipython3",
   "version": "3.7.6"
  },
  "toc": {
   "base_numbering": 1,
   "nav_menu": {},
   "number_sections": true,
   "sideBar": true,
   "skip_h1_title": false,
   "title_cell": "Table of Contents",
   "title_sidebar": "Contents",
   "toc_cell": false,
   "toc_position": {},
   "toc_section_display": true,
   "toc_window_display": false
  },
  "varInspector": {
   "cols": {
    "lenName": 16,
    "lenType": 16,
    "lenVar": 40
   },
   "kernels_config": {
    "python": {
     "delete_cmd_postfix": "",
     "delete_cmd_prefix": "del ",
     "library": "var_list.py",
     "varRefreshCmd": "print(var_dic_list())"
    },
    "r": {
     "delete_cmd_postfix": ") ",
     "delete_cmd_prefix": "rm(",
     "library": "var_list.r",
     "varRefreshCmd": "cat(var_dic_list()) "
    }
   },
   "types_to_exclude": [
    "module",
    "function",
    "builtin_function_or_method",
    "instance",
    "_Feature"
   ],
   "window_display": false
  }
 },
 "nbformat": 4,
 "nbformat_minor": 4
}
