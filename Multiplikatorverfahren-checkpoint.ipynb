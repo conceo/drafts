{
 "cells": [
  {
   "cell_type": "markdown",
   "metadata": {},
   "source": [
    "# Multiplikatorverfahren"
   ]
  },
  {
   "cell_type": "code",
   "execution_count": 1,
   "metadata": {},
   "outputs": [],
   "source": [
    "import ipysheet\n",
    "from ipysheet import sheet, calculation, column, row, from_dataframe, to_dataframe, from_array, to_array, cell\n",
    "import ipywidgets \n",
    "from ipywidgets import FloatSlider\n",
    "import pandas as pd\n",
    "import numpy as np"
   ]
  },
  {
   "cell_type": "code",
   "execution_count": 8,
   "metadata": {},
   "outputs": [
    {
     "data": {
      "application/vnd.jupyter.widget-view+json": {
       "model_id": "6371675262ad460ebbb5b30e6d8f903e",
       "version_major": 2,
       "version_minor": 0
      },
      "text/plain": [
       "HBox(children=(Text(value='', description='Fiskaljahr', placeholder=' '), Text(value='', description='Umsatz',…"
      ]
     },
     "metadata": {},
     "output_type": "display_data"
    }
   ],
   "source": [
    "fis = ipywidgets.Text(placeholder = \" \", description = \"Fiskaljahr\", disabled = False)\n",
    "ums = ipywidgets.Text(placeholder = \" \", description = \"Umsatz\", disabled = False)\n",
    "ebit = ipywidgets.Text(placeholder = \" \", description = \"EBIT\", disabled = False)\n",
    "ebitda = ipywidgets.Text(placeholder = \" \", description = \"EBITDA\", disabled = False)\n",
    "gew = ipywidgets.Text(placeholder = \" \", description = \"Gewinn\", disabled = False)\n",
    "container1 = ipywidgets.HBox([fis, ums, ebit, ebitda])\n",
    "\n",
    "display(container1)"
   ]
  },
  {
   "cell_type": "code",
   "execution_count": 2,
   "metadata": {},
   "outputs": [],
   "source": [
    "n = 4"
   ]
  },
  {
   "cell_type": "code",
   "execution_count": 9,
   "metadata": {
    "code_folding": [],
    "scrolled": true
   },
   "outputs": [
    {
     "ename": "TypeError",
     "evalue": "'Cell' object is not callable",
     "output_type": "error",
     "traceback": [
      "\u001b[1;31m---------------------------------------------------------------------------\u001b[0m",
      "\u001b[1;31mTypeError\u001b[0m                                 Traceback (most recent call last)",
      "\u001b[1;32m<ipython-input-9-0b83e78c3b90>\u001b[0m in \u001b[0;36m<module>\u001b[1;34m\u001b[0m\n\u001b[0;32m     28\u001b[0m \u001b[1;31m#     median = cell(4,i, value = np.median([b.value for b in multilist[i]]), color = 'green')\u001b[0m\u001b[1;33m\u001b[0m\u001b[1;33m\u001b[0m\u001b[1;33m\u001b[0m\u001b[0m\n\u001b[0;32m     29\u001b[0m \u001b[1;31m#     mean = cell(5,i, value = np.mean([b.value for b in multilist[i]]), color = 'green')\u001b[0m\u001b[1;33m\u001b[0m\u001b[1;33m\u001b[0m\u001b[1;33m\u001b[0m\u001b[0m\n\u001b[1;32m---> 30\u001b[1;33m \u001b[0mmedian0\u001b[0m \u001b[1;33m=\u001b[0m \u001b[0mcell\u001b[0m\u001b[1;33m(\u001b[0m\u001b[1;36m4\u001b[0m\u001b[1;33m,\u001b[0m\u001b[1;36m1\u001b[0m\u001b[1;33m,\u001b[0m \u001b[0mvalue\u001b[0m\u001b[1;33m=\u001b[0m\u001b[0mnp\u001b[0m\u001b[1;33m.\u001b[0m\u001b[0mmedian\u001b[0m\u001b[1;33m(\u001b[0m\u001b[1;33m[\u001b[0m\u001b[0mb\u001b[0m\u001b[1;33m.\u001b[0m\u001b[0mvalue\u001b[0m \u001b[1;32mfor\u001b[0m \u001b[0mb\u001b[0m \u001b[1;32min\u001b[0m \u001b[0mmultilist\u001b[0m\u001b[1;33m[\u001b[0m\u001b[1;36m1\u001b[0m\u001b[1;33m]\u001b[0m\u001b[1;33m]\u001b[0m\u001b[1;33m)\u001b[0m\u001b[1;33m,\u001b[0m \u001b[0mcolor\u001b[0m \u001b[1;33m=\u001b[0m \u001b[1;34m'green'\u001b[0m\u001b[1;33m)\u001b[0m\u001b[1;33m\u001b[0m\u001b[1;33m\u001b[0m\u001b[0m\n\u001b[0m\u001b[0;32m     31\u001b[0m \u001b[0mmedian1\u001b[0m \u001b[1;33m=\u001b[0m \u001b[0mcell\u001b[0m\u001b[1;33m(\u001b[0m\u001b[1;36m4\u001b[0m\u001b[1;33m,\u001b[0m\u001b[1;36m2\u001b[0m\u001b[1;33m,\u001b[0m \u001b[0mvalue\u001b[0m\u001b[1;33m=\u001b[0m\u001b[0mnp\u001b[0m\u001b[1;33m.\u001b[0m\u001b[0mmedian\u001b[0m\u001b[1;33m(\u001b[0m\u001b[1;33m[\u001b[0m\u001b[0mb\u001b[0m\u001b[1;33m.\u001b[0m\u001b[0mvalue\u001b[0m \u001b[1;32mfor\u001b[0m \u001b[0mb\u001b[0m \u001b[1;32min\u001b[0m \u001b[0mmultilist\u001b[0m\u001b[1;33m[\u001b[0m\u001b[1;36m2\u001b[0m\u001b[1;33m]\u001b[0m\u001b[1;33m]\u001b[0m\u001b[1;33m)\u001b[0m\u001b[1;33m,\u001b[0m \u001b[0mcolor\u001b[0m \u001b[1;33m=\u001b[0m \u001b[1;34m'green'\u001b[0m\u001b[1;33m)\u001b[0m\u001b[1;33m\u001b[0m\u001b[1;33m\u001b[0m\u001b[0m\n\u001b[0;32m     32\u001b[0m \u001b[0mmedian2\u001b[0m \u001b[1;33m=\u001b[0m \u001b[0mcell\u001b[0m\u001b[1;33m(\u001b[0m\u001b[1;36m4\u001b[0m\u001b[1;33m,\u001b[0m\u001b[1;36m3\u001b[0m\u001b[1;33m,\u001b[0m \u001b[0mvalue\u001b[0m\u001b[1;33m=\u001b[0m\u001b[0mnp\u001b[0m\u001b[1;33m.\u001b[0m\u001b[0mmedian\u001b[0m\u001b[1;33m(\u001b[0m\u001b[1;33m[\u001b[0m\u001b[0mb\u001b[0m\u001b[1;33m.\u001b[0m\u001b[0mvalue\u001b[0m \u001b[1;32mfor\u001b[0m \u001b[0mb\u001b[0m \u001b[1;32min\u001b[0m \u001b[0mmultilist\u001b[0m\u001b[1;33m[\u001b[0m\u001b[1;36m3\u001b[0m\u001b[1;33m]\u001b[0m\u001b[1;33m]\u001b[0m\u001b[1;33m)\u001b[0m\u001b[1;33m,\u001b[0m \u001b[0mcolor\u001b[0m \u001b[1;33m=\u001b[0m \u001b[1;34m'green'\u001b[0m\u001b[1;33m)\u001b[0m\u001b[1;33m\u001b[0m\u001b[1;33m\u001b[0m\u001b[0m\n",
      "\u001b[1;31mTypeError\u001b[0m: 'Cell' object is not callable"
     ]
    }
   ],
   "source": [
    "\n",
    "head1 = ['Vergleichsunternehmen', 'EV (MEUR)','EV/Umsatz','EV/EBIT','EV/EBITDA','KGV']\n",
    "head2 = ['', 'EV (MEUR)','EV/Umsatz','EV/EBIT','EV/EBITDA','KGV']\n",
    "row = []\n",
    "for i in range(n):\n",
    "    row.append(' ')\n",
    "row.append('Median')\n",
    "row.append('Mittelwert')\n",
    "#row.append('Sektor Median')\n",
    "\n",
    "mysheet = ipysheet.sheet(rows=6,columns=6, row_headers = row, column_headers = head1)\n",
    "\n",
    "multilist = []\n",
    "x = []\n",
    "\n",
    "             \n",
    "for count in range(6):\n",
    "    if count == 0:\n",
    "        for i in range(n):\n",
    "            x.append(ipysheet.cell(row=i, column=0, value = ' ', type = 'text'))\n",
    "   \n",
    "    else:\n",
    "        for i in range(n):\n",
    "            x.append(ipysheet.cell(row=i,column=count, value = 0))\n",
    "    multilist.append(x)\n",
    "    x = []\n",
    "\n",
    "# for i in range(1,6):\n",
    "#     median = cell(4,i, value = np.median([b.value for b in multilist[i]]), color = 'green')\n",
    "#     mean = cell(5,i, value = np.mean([b.value for b in multilist[i]]), color = 'green')\n",
    "median0 = cell(4,1, value=np.median([b.value for b in multilist[1]]), color = 'green')\n",
    "median1 = cell(4,2, value=np.median([b.value for b in multilist[2]]), color = 'green')\n",
    "median2 = cell(4,3, value=np.median([b.value for b in multilist[3]]), color = 'green')\n",
    "median3 = cell(4,4, value=np.median([b.value for b in multilist[4]]), color = 'green')\n",
    "median4 = cell(4,5, value=np.median([b.value for b in multilist[5]]), color = 'green')\n",
    "\n",
    "\n",
    "mean1 = cell(5,1, value=np.mean([b.value for b in multilist[1]]), color = 'green')\n",
    "mean2 = cell(5,2, value=np.mean([b.value for b in multilist[2]]), color = 'green')\n",
    "mean3 = cell(5,3, value=np.mean([b.value for b in multilist[3]]), color = 'green')\n",
    "mean4 = cell(5,4, value=np.mean([b.value for b in multilist[4]]), color = 'green')\n",
    "mean5 = cell(5,5, value=np.mean([b.value for b in multilist[5]]), color = 'green')      \n",
    "        \n",
    "def update(change):      \n",
    "    #for i in range(1,6):\n",
    "       # median = cell(4,i, value = np.median([b.value for b in multilist[i]]), color = 'green')\n",
    "       # mean = cell(5,i, value = np.mean([b.value for b in multilist[i]]), color = 'green') \n",
    "        \n",
    "    median0 = cell(4,1, value=np.median([b.value for b in multilist[1]]), color = 'green')\n",
    "    median1 = cell(4,2, value=np.median([b.value for b in multilist[2]]), color = 'green')\n",
    "    median2 = cell(4,3, value=np.median([b.value for b in multilist[3]]), color = 'green')\n",
    "    median3 = cell(4,4, value=np.median([b.value for b in multilist[4]]), color = 'green')\n",
    "    median4 = cell(4,5, value=np.median([b.value for b in multilist[5]]), color = 'green')\n",
    "\n",
    "\n",
    "    mean1 = cell(5,1, value=np.mean([b.value for b in multilist[1]]), color = 'green')\n",
    "    mean2 = cell(5,2, value=np.mean([b.value for b in multilist[2]]), color = 'green')\n",
    "    mean3 = cell(5,3, value=np.mean([b.value for b in multilist[3]]), color = 'green')\n",
    "    mean4 = cell(5,4, value=np.mean([b.value for b in multilist[4]]), color = 'green')\n",
    "    mean5 = cell(5,5, value=np.mean([b.value for b in multilist[5]]), color = 'green')\n",
    "\n",
    "#Observe\n",
    "for i in range(4):\n",
    "    multilist[2][i].observe(update, 'value')  \n",
    "    multilist[3][i].observe(update, 'value')  \n",
    "    multilist[4][i].observe(update, 'value')  \n",
    "    multilist[5][i].observe(update, 'value')  \n",
    "\n",
    "mysheet"
   ]
  },
  {
   "cell_type": "code",
   "execution_count": 4,
   "metadata": {},
   "outputs": [],
   "source": [
    "secondsheet = ipysheet.sheet(rows=1,columns=6, row_headers = [''], column_headers = head2)\n",
    "\n",
    "\n",
    "inputs = []\n",
    "for i in range(5):\n",
    "    inputs.append(ipysheet.cell(row= 0,column=i+1, value = 0))\n",
    "\n",
    "cell = ipysheet.cell(0,0, value= 'Sektor Median', background_color = 'orange')\n"
   ]
  },
  {
   "cell_type": "code",
   "execution_count": 5,
   "metadata": {
    "scrolled": true
   },
   "outputs": [
    {
     "data": {
      "application/vnd.jupyter.widget-view+json": {
       "model_id": "64224ad7e7f2498c8bac2d520c6c58b6",
       "version_major": 2,
       "version_minor": 0
      },
      "text/plain": [
       "Sheet(cells=(Cell(column_end=0, column_start=0, row_end=0, row_start=0, type='text', value=' '), Cell(column_e…"
      ]
     },
     "metadata": {},
     "output_type": "display_data"
    },
    {
     "data": {
      "application/vnd.jupyter.widget-view+json": {
       "model_id": "f0544357cdf343e99922d16972c1805c",
       "version_major": 2,
       "version_minor": 0
      },
      "text/plain": [
       "Sheet(cells=(Cell(column_end=1, column_start=1, row_end=0, row_start=0, type='numeric', value=0), Cell(column_…"
      ]
     },
     "metadata": {},
     "output_type": "display_data"
    }
   ],
   "source": [
    "display(mysheet,secondsheet)"
   ]
  },
  {
   "cell_type": "code",
   "execution_count": 16,
   "metadata": {},
   "outputs": [],
   "source": [
    "data = to_dataframe(mysheet)"
   ]
  },
  {
   "cell_type": "code",
   "execution_count": 12,
   "metadata": {},
   "outputs": [
    {
     "data": {
      "text/plain": [
       "[0.0, 0.0, 0.0, 0.0]"
      ]
     },
     "execution_count": 12,
     "metadata": {},
     "output_type": "execute_result"
    }
   ],
   "source": [
    "medianvec = []\n",
    "meanvec = []\n",
    "for i in range(1,5):\n",
    "    medianvec.append(np.median([m.value for m in multilist[i]]))\n",
    "    meanvec.append(np.mean([m.value for m in multilist[i]]))\n",
    "\n",
    "medianvec"
   ]
  },
  {
   "cell_type": "code",
   "execution_count": 13,
   "metadata": {},
   "outputs": [
    {
     "data": {
      "application/vnd.jupyter.widget-view+json": {
       "model_id": "6f5460804ea440a98ec60171fa20bb82",
       "version_major": 2,
       "version_minor": 0
      },
      "text/plain": [
       "Sheet(cells=(Cell(column_end=0, column_start=0, row_end=0, row_start=0, type='text', value='Zielunternehmen'),…"
      ]
     },
     "metadata": {},
     "output_type": "display_data"
    }
   ],
   "source": [
    "head3 = ['', 'Umsatz','EBIT','EBITDA','Gewinn']\n",
    "\n",
    "row = []\n",
    "for i in range(6):\n",
    "    row.append(' ')\n",
    "\n",
    "\n",
    "zielsheet = ipysheet.sheet(rows=6,columns=5, row_headers = row, column_headers = head3)\n",
    "\n",
    "ziellist = []\n",
    "x = []\n",
    "\n",
    "enter = ['Zielunternehmen', 'Enterprise Value (Median)', 'Enterprise Value (Sektor)', 'Equity Bridge', 'Equity Value (Median)','Equity Value (Sektor)']\n",
    "for count in range(5):\n",
    "    if count == 0:\n",
    "        for i in range(6):\n",
    "            x.append(ipysheet.cell(row=i, column=0, value = enter[i], type = 'text'))\n",
    "   \n",
    "    else:\n",
    "        for i in range(6):\n",
    "            x.append(ipysheet.cell(row=i,column=count, value = 0))\n",
    "    ziellist.append(x)\n",
    "    x = []\n",
    "\n",
    "# for i in range(1,6):\n",
    "#     median = cell(4,i, value = np.median([b.value for b in multilist[i]]), color = 'green')\n",
    "#     mean = cell(5,i, value = np.mean([b.value for b in multilist[i]]), color = 'green')\n",
    "      \n",
    "        \n",
    "# def update(change):        \n",
    "#     for i in range(1,6):\n",
    "#         median = cell(4,i, value = np.median([b.value for b in multilist[i]]), color = 'green')\n",
    "#         mean = cell(5,i, value = np.mean([b.value for b in multilist[i]]), color = 'green')       \n",
    "\n",
    "# #Observe\n",
    "# for i in range(4):\n",
    "#     multilist[2][i].observe(update, 'value')  \n",
    "#     multilist[3][i].observe(update, 'value')  \n",
    "#     multilist[4][i].observe(update, 'value')  \n",
    "#     multilist[5][i].observe(update, 'value')  \n",
    "\n",
    "wert = 5\n",
    "ziellist[2][2].value = wert*medianvec[1]\n",
    "\n",
    "zielsheet"
   ]
  },
  {
   "cell_type": "code",
   "execution_count": null,
   "metadata": {},
   "outputs": [],
   "source": []
  }
 ],
 "metadata": {
  "kernelspec": {
   "display_name": "Python 3",
   "language": "python",
   "name": "python3"
  },
  "language_info": {
   "codemirror_mode": {
    "name": "ipython",
    "version": 3
   },
   "file_extension": ".py",
   "mimetype": "text/x-python",
   "name": "python",
   "nbconvert_exporter": "python",
   "pygments_lexer": "ipython3",
   "version": "3.7.6"
  },
  "toc": {
   "base_numbering": 1,
   "nav_menu": {},
   "number_sections": true,
   "sideBar": true,
   "skip_h1_title": false,
   "title_cell": "Table of Contents",
   "title_sidebar": "Contents",
   "toc_cell": false,
   "toc_position": {},
   "toc_section_display": true,
   "toc_window_display": false
  },
  "varInspector": {
   "cols": {
    "lenName": 16,
    "lenType": 16,
    "lenVar": 40
   },
   "kernels_config": {
    "python": {
     "delete_cmd_postfix": "",
     "delete_cmd_prefix": "del ",
     "library": "var_list.py",
     "varRefreshCmd": "print(var_dic_list())"
    },
    "r": {
     "delete_cmd_postfix": ") ",
     "delete_cmd_prefix": "rm(",
     "library": "var_list.r",
     "varRefreshCmd": "cat(var_dic_list()) "
    }
   },
   "types_to_exclude": [
    "module",
    "function",
    "builtin_function_or_method",
    "instance",
    "_Feature"
   ],
   "window_display": false
  }
 },
 "nbformat": 4,
 "nbformat_minor": 4
}
