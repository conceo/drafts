{
 "cells": [
  {
   "cell_type": "markdown",
   "metadata": {},
   "source": [
    "# Beta Faktor II"
   ]
  },
  {
   "cell_type": "code",
   "execution_count": 1,
   "metadata": {},
   "outputs": [],
   "source": [
    "import json\n",
    "\n",
    "import numpy as np\n",
    "import pandas as pd\n",
    "from bqplot import ColorScale\n",
    "\n",
    "import ipydatagrid\n",
    "from ipydatagrid import Expr, DataGrid, TextRenderer, BarRenderer\n",
    "\n",
    "import ipysheet \n",
    "from ipysheet import from_dataframe, to_dataframe\n",
    "\n",
    "import pandas as pd\n",
    "import numpy as np"
   ]
  },
  {
   "cell_type": "code",
   "execution_count": 2,
   "metadata": {},
   "outputs": [
    {
     "data": {
      "application/vnd.jupyter.widget-view+json": {
       "model_id": "8d653f6ac87c47d09b56fb21fbb43714",
       "version_major": 2,
       "version_minor": 0
      },
      "text/plain": [
       "DataGrid(base_column_size=200, base_row_size=30, default_renderer=TextRenderer(), editable=True, header_render…"
      ]
     },
     "metadata": {},
     "output_type": "display_data"
    }
   ],
   "source": [
    "n = 10\n",
    "df = pd.DataFrame(\n",
    "    {\n",
    "        \"Value 1\": np.random.randn(n),\n",
    "        \"Value 2\": np.random.randn(n),\n",
    "    }\n",
    ")\n",
    "\n",
    "\n",
    "text_renderer = TextRenderer(\n",
    "    text_color=\"red\", background_color=ColorScale(min=-5, max=5)\n",
    ") \n",
    "\n",
    "grid = DataGrid(df, base_row_size=30, base_column_size=200, editable = True)\n",
    "grid"
   ]
  },
  {
   "cell_type": "markdown",
   "metadata": {},
   "source": [
    "## Fazit:\n",
    "\n",
    "Export nach Dataframe ist mit ipydatagrid nicht möglich, dafür jedoch Echtzeit-\n",
    "Beobachtung bei Veränderung von Daten innerhalb des Grids. Ist eventuell noch für WACC Spielereien am Ende hilfreich."
   ]
  },
  {
   "cell_type": "markdown",
   "metadata": {},
   "source": [
    "-----------------------------------------------"
   ]
  },
  {
   "cell_type": "markdown",
   "metadata": {},
   "source": [
    "# Experimente mit ipysheets"
   ]
  },
  {
   "cell_type": "code",
   "execution_count": 3,
   "metadata": {
    "scrolled": true
   },
   "outputs": [
    {
     "data": {
      "application/vnd.jupyter.widget-view+json": {
       "model_id": "fdd4d1b6f10c412891f2f2d89dcd2038",
       "version_major": 2,
       "version_minor": 0
      },
      "text/plain": [
       "Sheet(cells=(Cell(column_end=0, column_start=0, numeric_format='0.0', row_end=0, row_start=0, style={'color': …"
      ]
     },
     "metadata": {},
     "output_type": "display_data"
    }
   ],
   "source": [
    "sheet = ipysheet.sheet()\n",
    "\n",
    "cell0 = ipysheet.cell(0, 0, 0, color = 'red', numeric_format='0.0', type='numeric')\n",
    "cell1 = ipysheet.cell(1, 0, \"Hello\", type='text')\n",
    "cell2 = ipysheet.cell(0, 1, 0.1, numeric_format='0.000', type='numeric')\n",
    "cell3 = ipysheet.cell(1, 1, 15.9, numeric_format='0.00', type='numeric')\n",
    "cell4 = ipysheet.cell(2, 2, \"02/14/2019\", date_format='MM/DD/YYYY', type='date')\n",
    "\n",
    "sheet"
   ]
  },
  {
   "cell_type": "code",
   "execution_count": 4,
   "metadata": {},
   "outputs": [
    {
     "data": {
      "text/html": [
       "<div>\n",
       "<style scoped>\n",
       "    .dataframe tbody tr th:only-of-type {\n",
       "        vertical-align: middle;\n",
       "    }\n",
       "\n",
       "    .dataframe tbody tr th {\n",
       "        vertical-align: top;\n",
       "    }\n",
       "\n",
       "    .dataframe thead th {\n",
       "        text-align: right;\n",
       "    }\n",
       "</style>\n",
       "<table border=\"1\" class=\"dataframe\">\n",
       "  <thead>\n",
       "    <tr style=\"text-align: right;\">\n",
       "      <th></th>\n",
       "      <th>A</th>\n",
       "      <th>B</th>\n",
       "      <th>C</th>\n",
       "      <th>D</th>\n",
       "      <th>E</th>\n",
       "    </tr>\n",
       "  </thead>\n",
       "  <tbody>\n",
       "    <tr>\n",
       "      <th>0</th>\n",
       "      <td>0</td>\n",
       "      <td>0.1</td>\n",
       "      <td>None</td>\n",
       "      <td>None</td>\n",
       "      <td>None</td>\n",
       "    </tr>\n",
       "    <tr>\n",
       "      <th>1</th>\n",
       "      <td>Hello</td>\n",
       "      <td>15.9</td>\n",
       "      <td>None</td>\n",
       "      <td>None</td>\n",
       "      <td>None</td>\n",
       "    </tr>\n",
       "    <tr>\n",
       "      <th>2</th>\n",
       "      <td>None</td>\n",
       "      <td>None</td>\n",
       "      <td>02/14/2019</td>\n",
       "      <td>None</td>\n",
       "      <td>None</td>\n",
       "    </tr>\n",
       "    <tr>\n",
       "      <th>3</th>\n",
       "      <td>None</td>\n",
       "      <td>None</td>\n",
       "      <td>None</td>\n",
       "      <td>None</td>\n",
       "      <td>None</td>\n",
       "    </tr>\n",
       "    <tr>\n",
       "      <th>4</th>\n",
       "      <td>None</td>\n",
       "      <td>None</td>\n",
       "      <td>None</td>\n",
       "      <td>None</td>\n",
       "      <td>None</td>\n",
       "    </tr>\n",
       "  </tbody>\n",
       "</table>\n",
       "</div>"
      ],
      "text/plain": [
       "       A     B           C     D     E\n",
       "0      0   0.1        None  None  None\n",
       "1  Hello  15.9        None  None  None\n",
       "2   None  None  02/14/2019  None  None\n",
       "3   None  None        None  None  None\n",
       "4   None  None        None  None  None"
      ]
     },
     "execution_count": 4,
     "metadata": {},
     "output_type": "execute_result"
    }
   ],
   "source": [
    "#für export\n",
    "ipysheet.to_dataframe(sheet)"
   ]
  },
  {
   "cell_type": "code",
   "execution_count": 20,
   "metadata": {},
   "outputs": [
    {
     "data": {
      "application/vnd.jupyter.widget-view+json": {
       "model_id": "eef6b268921440299bf0b32615be0e77",
       "version_major": 2,
       "version_minor": 0
      },
      "text/plain": [
       "Sheet(cells=(Cell(column_end=0, column_start=0, row_end=2, row_start=0, squeeze_row=False, type='text', value=…"
      ]
     },
     "metadata": {},
     "output_type": "display_data"
    }
   ],
   "source": [
    "d = {'col1': [2,8], 'col2': [3,6]}\n",
    "df = pd.DataFrame(data=d)\n",
    "\n",
    "sheet1 = ipysheet.sheet(rows=len(df.columns) +1 , columns=3) \n",
    "first_col = df.columns.to_list()\n",
    "first_col.insert(0, 'Attribute')\n",
    "column =  ipysheet.column(0, value = first_col, row_start = 0) \n",
    "cell_value1 = ipysheet.cell(0, 1, 'Format')\n",
    "cell_value2 = ipysheet.cell(0, 2, 'Description')\n",
    "sheet1 "
   ]
  },
  {
   "cell_type": "code",
   "execution_count": 6,
   "metadata": {},
   "outputs": [
    {
     "ename": "NameError",
     "evalue": "name 'column1_value' is not defined",
     "output_type": "error",
     "traceback": [
      "\u001b[1;31m---------------------------------------------------------------------------\u001b[0m",
      "\u001b[1;31mNameError\u001b[0m                                 Traceback (most recent call last)",
      "\u001b[1;32m<ipython-input-6-1b0024dd0af8>\u001b[0m in \u001b[0;36m<module>\u001b[1;34m\u001b[0m\n\u001b[1;32m----> 1\u001b[1;33m \u001b[0mcolumn1_value\u001b[0m\u001b[1;33m\u001b[0m\u001b[1;33m\u001b[0m\u001b[0m\n\u001b[0m",
      "\u001b[1;31mNameError\u001b[0m: name 'column1_value' is not defined"
     ]
    }
   ],
   "source": [
    "column1_value"
   ]
  },
  {
   "cell_type": "code",
   "execution_count": 7,
   "metadata": {},
   "outputs": [
    {
     "data": {
      "application/vnd.jupyter.widget-view+json": {
       "model_id": "3504c09bcdb844d4bd9196b82617baef",
       "version_major": 2,
       "version_minor": 0
      },
      "text/plain": [
       "Sheet(column_headers=['Unternehmen', 'Tägliches Handelsvolumen (30T)', 'Levered Beta', 'Marktwert Fremdkapital…"
      ]
     },
     "metadata": {},
     "output_type": "display_data"
    }
   ],
   "source": [
    "head = ['Unternehmen','Tägliches Handelsvolumen (30T)', 'Levered Beta', 'Marktwert Fremdkapital', 'Marktwert Eigenkapital', 'Eigenkapital/Vermögen', 'Steuersatz', 'Unlevered Beta' ]\n",
    "\n",
    "beta = ipysheet.sheet(rows=8, columns = 7, row_headers = ['','','','','','','',''], column_headers = head)\n",
    "#cell = ipysheet.cell(row=0)\n",
    "\n",
    "#dat = to_dataframe(beta)\n",
    "\n",
    "#dat.loc[0,2] = np.nan\n",
    "\n",
    "beta"
   ]
  },
  {
   "cell_type": "code",
   "execution_count": 8,
   "metadata": {},
   "outputs": [
    {
     "data": {
      "application/vnd.jupyter.widget-view+json": {
       "model_id": "3504c09bcdb844d4bd9196b82617baef",
       "version_major": 2,
       "version_minor": 0
      },
      "text/plain": [
       "Sheet(column_headers=['Unternehmen', 'Tägliches Handelsvolumen (30T)', 'Levered Beta', 'Marktwert Fremdkapital…"
      ]
     },
     "metadata": {},
     "output_type": "display_data"
    }
   ],
   "source": [
    "beta"
   ]
  },
  {
   "cell_type": "code",
   "execution_count": 11,
   "metadata": {},
   "outputs": [
    {
     "data": {
      "application/vnd.jupyter.widget-view+json": {
       "model_id": "725637f070f04de4b334f4bc454b27a3",
       "version_major": 2,
       "version_minor": 0
      },
      "text/plain": [
       "Sheet(cells=(Cell(column_end=1, column_start=1, row_end=9, row_start=0, squeeze_row=False, style={'color': 're…"
      ]
     },
     "metadata": {},
     "output_type": "display_data"
    },
    {
     "data": {
      "application/vnd.jupyter.widget-view+json": {
       "model_id": "fdd4d1b6f10c412891f2f2d89dcd2038",
       "version_major": 2,
       "version_minor": 0
      },
      "text/plain": [
       "Sheet(cells=(Cell(column_end=0, column_start=0, numeric_format='0.0', row_end=0, row_start=0, style={'color': …"
      ]
     },
     "metadata": {},
     "output_type": "display_data"
    }
   ],
   "source": [
    "beta = ipysheet.sheet(rows =10, columns =5)\n",
    "column = ipysheet.column(column = 1, value=np.random.rand(10),color ='red', row_start=0)\n",
    "#@ipysheet.calculation(inputs=[(cell1, 'value'), cell3], output=ipysheet.cell(3,2))\n",
    "row = ipysheet.row(row=1,value=list('12345'))\n",
    "display(beta)\n",
    "display(sheet)\n"
   ]
  },
  {
   "cell_type": "code",
   "execution_count": 10,
   "metadata": {},
   "outputs": [
    {
     "data": {
      "text/html": [
       "<div>\n",
       "<style scoped>\n",
       "    .dataframe tbody tr th:only-of-type {\n",
       "        vertical-align: middle;\n",
       "    }\n",
       "\n",
       "    .dataframe tbody tr th {\n",
       "        vertical-align: top;\n",
       "    }\n",
       "\n",
       "    .dataframe thead th {\n",
       "        text-align: right;\n",
       "    }\n",
       "</style>\n",
       "<table border=\"1\" class=\"dataframe\">\n",
       "  <thead>\n",
       "    <tr style=\"text-align: right;\">\n",
       "      <th></th>\n",
       "      <th>A</th>\n",
       "      <th>B</th>\n",
       "      <th>C</th>\n",
       "      <th>D</th>\n",
       "      <th>E</th>\n",
       "    </tr>\n",
       "  </thead>\n",
       "  <tbody>\n",
       "    <tr>\n",
       "      <th>0</th>\n",
       "      <td>None</td>\n",
       "      <td>0.37264204447087035</td>\n",
       "      <td>None</td>\n",
       "      <td>None</td>\n",
       "      <td>None</td>\n",
       "    </tr>\n",
       "    <tr>\n",
       "      <th>1</th>\n",
       "      <td>1</td>\n",
       "      <td>2</td>\n",
       "      <td>3</td>\n",
       "      <td>4</td>\n",
       "      <td>5</td>\n",
       "    </tr>\n",
       "    <tr>\n",
       "      <th>2</th>\n",
       "      <td>None</td>\n",
       "      <td>0.7557834310324716</td>\n",
       "      <td>None</td>\n",
       "      <td>None</td>\n",
       "      <td>None</td>\n",
       "    </tr>\n",
       "    <tr>\n",
       "      <th>3</th>\n",
       "      <td>None</td>\n",
       "      <td>0.30939927784947663</td>\n",
       "      <td>None</td>\n",
       "      <td>None</td>\n",
       "      <td>None</td>\n",
       "    </tr>\n",
       "    <tr>\n",
       "      <th>4</th>\n",
       "      <td>None</td>\n",
       "      <td>0.6855130849431408</td>\n",
       "      <td>None</td>\n",
       "      <td>None</td>\n",
       "      <td>None</td>\n",
       "    </tr>\n",
       "    <tr>\n",
       "      <th>5</th>\n",
       "      <td>None</td>\n",
       "      <td>0.28251450404537715</td>\n",
       "      <td>None</td>\n",
       "      <td>None</td>\n",
       "      <td>None</td>\n",
       "    </tr>\n",
       "    <tr>\n",
       "      <th>6</th>\n",
       "      <td>None</td>\n",
       "      <td>0.055167726140270545</td>\n",
       "      <td>None</td>\n",
       "      <td>None</td>\n",
       "      <td>None</td>\n",
       "    </tr>\n",
       "    <tr>\n",
       "      <th>7</th>\n",
       "      <td>None</td>\n",
       "      <td>0.8199726541284357</td>\n",
       "      <td>None</td>\n",
       "      <td>None</td>\n",
       "      <td>None</td>\n",
       "    </tr>\n",
       "    <tr>\n",
       "      <th>8</th>\n",
       "      <td>None</td>\n",
       "      <td>0.2245185077518238</td>\n",
       "      <td>None</td>\n",
       "      <td>None</td>\n",
       "      <td>None</td>\n",
       "    </tr>\n",
       "    <tr>\n",
       "      <th>9</th>\n",
       "      <td>None</td>\n",
       "      <td>0.8781811115927448</td>\n",
       "      <td>None</td>\n",
       "      <td>None</td>\n",
       "      <td>None</td>\n",
       "    </tr>\n",
       "  </tbody>\n",
       "</table>\n",
       "</div>"
      ],
      "text/plain": [
       "      A                     B     C     D     E\n",
       "0  None   0.37264204447087035  None  None  None\n",
       "1     1                     2     3     4     5\n",
       "2  None    0.7557834310324716  None  None  None\n",
       "3  None   0.30939927784947663  None  None  None\n",
       "4  None    0.6855130849431408  None  None  None\n",
       "5  None   0.28251450404537715  None  None  None\n",
       "6  None  0.055167726140270545  None  None  None\n",
       "7  None    0.8199726541284357  None  None  None\n",
       "8  None    0.2245185077518238  None  None  None\n",
       "9  None    0.8781811115927448  None  None  None"
      ]
     },
     "execution_count": 10,
     "metadata": {},
     "output_type": "execute_result"
    }
   ],
   "source": [
    "ipysheet.to_dataframe(beta)\n",
    "\n",
    "#beta['Eigenkapital/Vermögen'] = beta['Marktwert Eigenkapital']+(beta['Marktwert Fremdkapital']+beta['Marktwert Eigenkapital'])"
   ]
  },
  {
   "cell_type": "code",
   "execution_count": 12,
   "metadata": {},
   "outputs": [
    {
     "ename": "NameError",
     "evalue": "name 'median' is not defined",
     "output_type": "error",
     "traceback": [
      "\u001b[1;31m---------------------------------------------------------------------------\u001b[0m",
      "\u001b[1;31mNameError\u001b[0m                                 Traceback (most recent call last)",
      "\u001b[1;32m<ipython-input-12-6c6b76df2d71>\u001b[0m in \u001b[0;36m<module>\u001b[1;34m\u001b[0m\n\u001b[1;32m----> 1\u001b[1;33m \u001b[0mmedian\u001b[0m\u001b[1;33m(\u001b[0m\u001b[1;33m)\u001b[0m\u001b[1;33m\u001b[0m\u001b[1;33m\u001b[0m\u001b[0m\n\u001b[0m",
      "\u001b[1;31mNameError\u001b[0m: name 'median' is not defined"
     ]
    }
   ],
   "source": [
    "median()"
   ]
  },
  {
   "cell_type": "code",
   "execution_count": 13,
   "metadata": {},
   "outputs": [
    {
     "data": {
      "text/html": [
       "<div>\n",
       "<style scoped>\n",
       "    .dataframe tbody tr th:only-of-type {\n",
       "        vertical-align: middle;\n",
       "    }\n",
       "\n",
       "    .dataframe tbody tr th {\n",
       "        vertical-align: top;\n",
       "    }\n",
       "\n",
       "    .dataframe thead th {\n",
       "        text-align: right;\n",
       "    }\n",
       "</style>\n",
       "<table border=\"1\" class=\"dataframe\">\n",
       "  <thead>\n",
       "    <tr style=\"text-align: right;\">\n",
       "      <th></th>\n",
       "      <th>A</th>\n",
       "      <th>B</th>\n",
       "      <th>C</th>\n",
       "      <th>D</th>\n",
       "      <th>E</th>\n",
       "    </tr>\n",
       "  </thead>\n",
       "  <tbody>\n",
       "    <tr>\n",
       "      <th>0</th>\n",
       "      <td>0</td>\n",
       "      <td>0.1</td>\n",
       "      <td>None</td>\n",
       "      <td>None</td>\n",
       "      <td>None</td>\n",
       "    </tr>\n",
       "    <tr>\n",
       "      <th>1</th>\n",
       "      <td>Hello</td>\n",
       "      <td>15.9</td>\n",
       "      <td>None</td>\n",
       "      <td>None</td>\n",
       "      <td>None</td>\n",
       "    </tr>\n",
       "    <tr>\n",
       "      <th>2</th>\n",
       "      <td>None</td>\n",
       "      <td>None</td>\n",
       "      <td>02/14/2019</td>\n",
       "      <td>None</td>\n",
       "      <td>None</td>\n",
       "    </tr>\n",
       "    <tr>\n",
       "      <th>3</th>\n",
       "      <td>None</td>\n",
       "      <td>None</td>\n",
       "      <td>None</td>\n",
       "      <td>None</td>\n",
       "      <td>None</td>\n",
       "    </tr>\n",
       "    <tr>\n",
       "      <th>4</th>\n",
       "      <td>None</td>\n",
       "      <td>None</td>\n",
       "      <td>None</td>\n",
       "      <td>None</td>\n",
       "      <td>None</td>\n",
       "    </tr>\n",
       "  </tbody>\n",
       "</table>\n",
       "</div>"
      ],
      "text/plain": [
       "       A     B           C     D     E\n",
       "0      0   0.1        None  None  None\n",
       "1  Hello  15.9        None  None  None\n",
       "2   None  None  02/14/2019  None  None\n",
       "3   None  None        None  None  None\n",
       "4   None  None        None  None  None"
      ]
     },
     "execution_count": 13,
     "metadata": {},
     "output_type": "execute_result"
    }
   ],
   "source": [
    "df = ipysheet.to_dataframe(sheet)\n",
    "df"
   ]
  },
  {
   "cell_type": "code",
   "execution_count": null,
   "metadata": {},
   "outputs": [],
   "source": []
  },
  {
   "cell_type": "code",
   "execution_count": 14,
   "metadata": {},
   "outputs": [
    {
     "data": {
      "text/html": [
       "<div>\n",
       "<style scoped>\n",
       "    .dataframe tbody tr th:only-of-type {\n",
       "        vertical-align: middle;\n",
       "    }\n",
       "\n",
       "    .dataframe tbody tr th {\n",
       "        vertical-align: top;\n",
       "    }\n",
       "\n",
       "    .dataframe thead th {\n",
       "        text-align: right;\n",
       "    }\n",
       "</style>\n",
       "<table border=\"1\" class=\"dataframe\">\n",
       "  <thead>\n",
       "    <tr style=\"text-align: right;\">\n",
       "      <th></th>\n",
       "      <th>A</th>\n",
       "      <th>B</th>\n",
       "      <th>C</th>\n",
       "      <th>D</th>\n",
       "      <th>E</th>\n",
       "      <th>Cath</th>\n",
       "    </tr>\n",
       "  </thead>\n",
       "  <tbody>\n",
       "    <tr>\n",
       "      <th>0</th>\n",
       "      <td>0</td>\n",
       "      <td>0.1</td>\n",
       "      <td>None</td>\n",
       "      <td>None</td>\n",
       "      <td>None</td>\n",
       "      <td>7</td>\n",
       "    </tr>\n",
       "    <tr>\n",
       "      <th>1</th>\n",
       "      <td>Hello</td>\n",
       "      <td>15.9</td>\n",
       "      <td>None</td>\n",
       "      <td>None</td>\n",
       "      <td>None</td>\n",
       "      <td>7</td>\n",
       "    </tr>\n",
       "    <tr>\n",
       "      <th>2</th>\n",
       "      <td>None</td>\n",
       "      <td>None</td>\n",
       "      <td>02/14/2019</td>\n",
       "      <td>None</td>\n",
       "      <td>None</td>\n",
       "      <td>7</td>\n",
       "    </tr>\n",
       "    <tr>\n",
       "      <th>3</th>\n",
       "      <td>None</td>\n",
       "      <td>None</td>\n",
       "      <td>None</td>\n",
       "      <td>None</td>\n",
       "      <td>None</td>\n",
       "      <td>7</td>\n",
       "    </tr>\n",
       "    <tr>\n",
       "      <th>4</th>\n",
       "      <td>None</td>\n",
       "      <td>None</td>\n",
       "      <td>None</td>\n",
       "      <td>None</td>\n",
       "      <td>None</td>\n",
       "      <td>7</td>\n",
       "    </tr>\n",
       "  </tbody>\n",
       "</table>\n",
       "</div>"
      ],
      "text/plain": [
       "       A     B           C     D     E  Cath\n",
       "0      0   0.1        None  None  None     7\n",
       "1  Hello  15.9        None  None  None     7\n",
       "2   None  None  02/14/2019  None  None     7\n",
       "3   None  None        None  None  None     7\n",
       "4   None  None        None  None  None     7"
      ]
     },
     "execution_count": 14,
     "metadata": {},
     "output_type": "execute_result"
    }
   ],
   "source": [
    "df['Cath'] = 7\n",
    "df"
   ]
  },
  {
   "cell_type": "code",
   "execution_count": 15,
   "metadata": {},
   "outputs": [
    {
     "data": {
      "application/vnd.jupyter.widget-view+json": {
       "model_id": "bf58f0cb17814db88e546a1073cfdba1",
       "version_major": 2,
       "version_minor": 0
      },
      "text/plain": [
       "Sheet(cells=(Cell(column_end=0, column_start=0, numeric_format=None, row_end=4, row_start=0, squeeze_row=False…"
      ]
     },
     "metadata": {},
     "output_type": "display_data"
    }
   ],
   "source": [
    "sheet = from_dataframe(df)\n",
    "sheet"
   ]
  },
  {
   "cell_type": "code",
   "execution_count": 19,
   "metadata": {},
   "outputs": [
    {
     "data": {
      "text/html": [
       "<div>\n",
       "<style scoped>\n",
       "    .dataframe tbody tr th:only-of-type {\n",
       "        vertical-align: middle;\n",
       "    }\n",
       "\n",
       "    .dataframe tbody tr th {\n",
       "        vertical-align: top;\n",
       "    }\n",
       "\n",
       "    .dataframe thead th {\n",
       "        text-align: right;\n",
       "    }\n",
       "</style>\n",
       "<table border=\"1\" class=\"dataframe\">\n",
       "  <thead>\n",
       "    <tr style=\"text-align: right;\">\n",
       "      <th></th>\n",
       "      <th>Vergleichsunternehmen</th>\n",
       "      <th>Unnamed: 1</th>\n",
       "      <th>Tägl. Handels-volumen (30T)</th>\n",
       "      <th>Levered Beta</th>\n",
       "      <th>Marktwert d. Fremdkapitals</th>\n",
       "      <th>Marktwert d. Eigenkapitals</th>\n",
       "      <th>Fremdkapital / Eigenkapital</th>\n",
       "      <th>Eigenkapital / Vermögen</th>\n",
       "      <th>Steuersatz</th>\n",
       "      <th>Unlevered Beta</th>\n",
       "      <th>Relevered Beta</th>\n",
       "    </tr>\n",
       "  </thead>\n",
       "  <tbody>\n",
       "    <tr>\n",
       "      <th>0</th>\n",
       "      <td>Consti Group Plc</td>\n",
       "      <td>NaN</td>\n",
       "      <td>4.312611e+07</td>\n",
       "      <td>0.721881</td>\n",
       "      <td>4.196223e+07</td>\n",
       "      <td>4.312611e+07</td>\n",
       "      <td>0.973012</td>\n",
       "      <td>0.506839</td>\n",
       "      <td>0.179000</td>\n",
       "      <td>0.401303</td>\n",
       "      <td>NaN</td>\n",
       "    </tr>\n",
       "    <tr>\n",
       "      <th>1</th>\n",
       "      <td>Hutter &amp; Schrantz Stahlbau AG</td>\n",
       "      <td>NaN</td>\n",
       "      <td>4.576986e+07</td>\n",
       "      <td>0.842969</td>\n",
       "      <td>1.885646e+07</td>\n",
       "      <td>4.576986e+07</td>\n",
       "      <td>0.411984</td>\n",
       "      <td>0.708223</td>\n",
       "      <td>0.233438</td>\n",
       "      <td>0.640645</td>\n",
       "      <td>NaN</td>\n",
       "    </tr>\n",
       "    <tr>\n",
       "      <th>2</th>\n",
       "      <td>Ediliziacrobatica SpA</td>\n",
       "      <td>NaN</td>\n",
       "      <td>5.013511e+07</td>\n",
       "      <td>0.217353</td>\n",
       "      <td>5.185118e+07</td>\n",
       "      <td>5.013511e+07</td>\n",
       "      <td>1.034229</td>\n",
       "      <td>0.491587</td>\n",
       "      <td>0.329663</td>\n",
       "      <td>0.128362</td>\n",
       "      <td>NaN</td>\n",
       "    </tr>\n",
       "    <tr>\n",
       "      <th>3</th>\n",
       "      <td>Muehlhan AG</td>\n",
       "      <td>NaN</td>\n",
       "      <td>5.778856e+07</td>\n",
       "      <td>0.599620</td>\n",
       "      <td>2.934923e+07</td>\n",
       "      <td>5.778856e+07</td>\n",
       "      <td>0.507873</td>\n",
       "      <td>0.663186</td>\n",
       "      <td>0.346550</td>\n",
       "      <td>0.450209</td>\n",
       "      <td>NaN</td>\n",
       "    </tr>\n",
       "    <tr>\n",
       "      <th>4</th>\n",
       "      <td>NaN</td>\n",
       "      <td>NaN</td>\n",
       "      <td>NaN</td>\n",
       "      <td>NaN</td>\n",
       "      <td>NaN</td>\n",
       "      <td>NaN</td>\n",
       "      <td>NaN</td>\n",
       "      <td>NaN</td>\n",
       "      <td>NaN</td>\n",
       "      <td>NaN</td>\n",
       "      <td>NaN</td>\n",
       "    </tr>\n",
       "    <tr>\n",
       "      <th>5</th>\n",
       "      <td>NaN</td>\n",
       "      <td>NaN</td>\n",
       "      <td>NaN</td>\n",
       "      <td>NaN</td>\n",
       "      <td>NaN</td>\n",
       "      <td>NaN</td>\n",
       "      <td>NaN</td>\n",
       "      <td>NaN</td>\n",
       "      <td>NaN</td>\n",
       "      <td>NaN</td>\n",
       "      <td>NaN</td>\n",
       "    </tr>\n",
       "    <tr>\n",
       "      <th>6</th>\n",
       "      <td>NaN</td>\n",
       "      <td>NaN</td>\n",
       "      <td>NaN</td>\n",
       "      <td>NaN</td>\n",
       "      <td>NaN</td>\n",
       "      <td>NaN</td>\n",
       "      <td>NaN</td>\n",
       "      <td>NaN</td>\n",
       "      <td>NaN</td>\n",
       "      <td>NaN</td>\n",
       "      <td>NaN</td>\n",
       "    </tr>\n",
       "    <tr>\n",
       "      <th>7</th>\n",
       "      <td>--</td>\n",
       "      <td>NaN</td>\n",
       "      <td>NaN</td>\n",
       "      <td>NaN</td>\n",
       "      <td>NaN</td>\n",
       "      <td>NaN</td>\n",
       "      <td>NaN</td>\n",
       "      <td>NaN</td>\n",
       "      <td>NaN</td>\n",
       "      <td>NaN</td>\n",
       "      <td>NaN</td>\n",
       "    </tr>\n",
       "    <tr>\n",
       "      <th>8</th>\n",
       "      <td>--</td>\n",
       "      <td>NaN</td>\n",
       "      <td>NaN</td>\n",
       "      <td>NaN</td>\n",
       "      <td>NaN</td>\n",
       "      <td>NaN</td>\n",
       "      <td>NaN</td>\n",
       "      <td>NaN</td>\n",
       "      <td>NaN</td>\n",
       "      <td>NaN</td>\n",
       "      <td>NaN</td>\n",
       "    </tr>\n",
       "    <tr>\n",
       "      <th>9</th>\n",
       "      <td>--</td>\n",
       "      <td>NaN</td>\n",
       "      <td>NaN</td>\n",
       "      <td>NaN</td>\n",
       "      <td>NaN</td>\n",
       "      <td>NaN</td>\n",
       "      <td>NaN</td>\n",
       "      <td>NaN</td>\n",
       "      <td>NaN</td>\n",
       "      <td>NaN</td>\n",
       "      <td>NaN</td>\n",
       "    </tr>\n",
       "    <tr>\n",
       "      <th>10</th>\n",
       "      <td>Median</td>\n",
       "      <td>NaN</td>\n",
       "      <td>NaN</td>\n",
       "      <td>0.660750</td>\n",
       "      <td>3.565573e+07</td>\n",
       "      <td>4.795248e+07</td>\n",
       "      <td>0.740442</td>\n",
       "      <td>0.585013</td>\n",
       "      <td>0.281550</td>\n",
       "      <td>0.425756</td>\n",
       "      <td>NaN</td>\n",
       "    </tr>\n",
       "    <tr>\n",
       "      <th>11</th>\n",
       "      <td>Mittelwert</td>\n",
       "      <td>NaN</td>\n",
       "      <td>NaN</td>\n",
       "      <td>0.595456</td>\n",
       "      <td>3.550478e+07</td>\n",
       "      <td>4.920491e+07</td>\n",
       "      <td>0.731775</td>\n",
       "      <td>0.592459</td>\n",
       "      <td>0.272163</td>\n",
       "      <td>0.405130</td>\n",
       "      <td>NaN</td>\n",
       "    </tr>\n",
       "  </tbody>\n",
       "</table>\n",
       "</div>"
      ],
      "text/plain": [
       "            Vergleichsunternehmen  Unnamed: 1  Tägl. Handels-volumen (30T)   \\\n",
       "0                Consti Group Plc         NaN                  4.312611e+07   \n",
       "1   Hutter & Schrantz Stahlbau AG         NaN                  4.576986e+07   \n",
       "2           Ediliziacrobatica SpA         NaN                  5.013511e+07   \n",
       "3                     Muehlhan AG         NaN                  5.778856e+07   \n",
       "4                             NaN         NaN                           NaN   \n",
       "5                             NaN         NaN                           NaN   \n",
       "6                             NaN         NaN                           NaN   \n",
       "7                              --         NaN                           NaN   \n",
       "8                              --         NaN                           NaN   \n",
       "9                              --         NaN                           NaN   \n",
       "10                         Median         NaN                           NaN   \n",
       "11                     Mittelwert         NaN                           NaN   \n",
       "\n",
       "    Levered Beta  Marktwert d. Fremdkapitals  Marktwert d. Eigenkapitals  \\\n",
       "0       0.721881                4.196223e+07                4.312611e+07   \n",
       "1       0.842969                1.885646e+07                4.576986e+07   \n",
       "2       0.217353                5.185118e+07                5.013511e+07   \n",
       "3       0.599620                2.934923e+07                5.778856e+07   \n",
       "4            NaN                         NaN                         NaN   \n",
       "5            NaN                         NaN                         NaN   \n",
       "6            NaN                         NaN                         NaN   \n",
       "7            NaN                         NaN                         NaN   \n",
       "8            NaN                         NaN                         NaN   \n",
       "9            NaN                         NaN                         NaN   \n",
       "10      0.660750                3.565573e+07                4.795248e+07   \n",
       "11      0.595456                3.550478e+07                4.920491e+07   \n",
       "\n",
       "    Fremdkapital / Eigenkapital  Eigenkapital / Vermögen  Steuersatz  \\\n",
       "0                      0.973012                 0.506839    0.179000   \n",
       "1                      0.411984                 0.708223    0.233438   \n",
       "2                      1.034229                 0.491587    0.329663   \n",
       "3                      0.507873                 0.663186    0.346550   \n",
       "4                           NaN                      NaN         NaN   \n",
       "5                           NaN                      NaN         NaN   \n",
       "6                           NaN                      NaN         NaN   \n",
       "7                           NaN                      NaN         NaN   \n",
       "8                           NaN                      NaN         NaN   \n",
       "9                           NaN                      NaN         NaN   \n",
       "10                     0.740442                 0.585013    0.281550   \n",
       "11                     0.731775                 0.592459    0.272163   \n",
       "\n",
       "    Unlevered Beta  Relevered Beta  \n",
       "0         0.401303             NaN  \n",
       "1         0.640645             NaN  \n",
       "2         0.128362             NaN  \n",
       "3         0.450209             NaN  \n",
       "4              NaN             NaN  \n",
       "5              NaN             NaN  \n",
       "6              NaN             NaN  \n",
       "7              NaN             NaN  \n",
       "8              NaN             NaN  \n",
       "9              NaN             NaN  \n",
       "10        0.425756             NaN  \n",
       "11        0.405130             NaN  "
      ]
     },
     "execution_count": 19,
     "metadata": {},
     "output_type": "execute_result"
    }
   ],
   "source": [
    "df2 = pd.read_excel('beta.xlsx', header=1)\n",
    "head = df2\n",
    "df2transpose"
   ]
  },
  {
   "cell_type": "markdown",
   "metadata": {},
   "source": [
    "## Calculating"
   ]
  },
  {
   "cell_type": "code",
   "execution_count": 16,
   "metadata": {},
   "outputs": [],
   "source": [
    "from ipysheet import calculation, sheet, row, column, cell_range\n",
    "from random import randint"
   ]
  },
  {
   "cell_type": "code",
   "execution_count": 17,
   "metadata": {},
   "outputs": [
    {
     "data": {
      "application/vnd.jupyter.widget-view+json": {
       "model_id": "9ca8df48fe55490a9c50e0ac28ca68a6",
       "version_major": 2,
       "version_minor": 0
      },
      "text/plain": [
       "Sheet(cells=(Cell(column_end=0, column_start=0, row_end=0, row_start=0, type='numeric', value=0), Cell(column_…"
      ]
     },
     "metadata": {},
     "output_type": "display_data"
    }
   ],
   "source": [
    "\n",
    "newsheet = ipysheet.sheet()\n",
    "#data = [[randint(-10,10)for j in range(4)] for j in range(3)]\n",
    "\n",
    "cell1 =ipysheet.cell(row=0, column=0, value=0)\n",
    "cell2 =ipysheet.cell(row=1, column=0, value=5)\n",
    "cell3 =ipysheet.cell(row=2, column=0, value=25)\n",
    "cellsum =ipysheet.cell(row=3, column=0, value=sum([cell1.value,cell2.value]))\n",
    "sumcell =ipysheet.cell(row=3, column=2)\n",
    "\n",
    "def update(change):\n",
    "    sumcell.value = cell1.value + cell2.value\n",
    "    \n",
    "#observe change in Realtime\n",
    "\n",
    "cell1.observe(update, 'value')\n",
    "cell2.observe(update, 'value')\n",
    "\n",
    "\n",
    "newsheet"
   ]
  },
  {
   "cell_type": "code",
   "execution_count": null,
   "metadata": {},
   "outputs": [],
   "source": []
  },
  {
   "cell_type": "code",
   "execution_count": null,
   "metadata": {},
   "outputs": [],
   "source": []
  }
 ],
 "metadata": {
  "kernelspec": {
   "display_name": "Python 3",
   "language": "python",
   "name": "python3"
  },
  "language_info": {
   "codemirror_mode": {
    "name": "ipython",
    "version": 3
   },
   "file_extension": ".py",
   "mimetype": "text/x-python",
   "name": "python",
   "nbconvert_exporter": "python",
   "pygments_lexer": "ipython3",
   "version": "3.7.6"
  },
  "toc": {
   "base_numbering": 1,
   "nav_menu": {},
   "number_sections": true,
   "sideBar": true,
   "skip_h1_title": false,
   "title_cell": "Table of Contents",
   "title_sidebar": "Contents",
   "toc_cell": false,
   "toc_position": {},
   "toc_section_display": true,
   "toc_window_display": false
  },
  "varInspector": {
   "cols": {
    "lenName": 16,
    "lenType": 16,
    "lenVar": 40
   },
   "kernels_config": {
    "python": {
     "delete_cmd_postfix": "",
     "delete_cmd_prefix": "del ",
     "library": "var_list.py",
     "varRefreshCmd": "print(var_dic_list())"
    },
    "r": {
     "delete_cmd_postfix": ") ",
     "delete_cmd_prefix": "rm(",
     "library": "var_list.r",
     "varRefreshCmd": "cat(var_dic_list()) "
    }
   },
   "types_to_exclude": [
    "module",
    "function",
    "builtin_function_or_method",
    "instance",
    "_Feature"
   ],
   "window_display": false
  }
 },
 "nbformat": 4,
 "nbformat_minor": 4
}
