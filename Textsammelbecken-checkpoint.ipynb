{
 "cells": [
  {
   "cell_type": "markdown",
   "metadata": {},
   "source": [
    "# Textsammelbecken"
   ]
  },
  {
   "cell_type": "markdown",
   "metadata": {},
   "source": [
    "Der durchschnittliche Kapitalkostensatz (**WACC**) wird als gewogener Durchschnitt über die Eigenkapitalkosten und den Fremdkapitalkosten des Unternehmens als Diskontierungszinssatz gewählt."
   ]
  },
  {
   "cell_type": "markdown",
   "metadata": {
    "ExecuteTime": {
     "end_time": "2021-03-04T16:03:30.937427Z",
     "start_time": "2021-03-04T16:03:30.915378Z"
    }
   },
   "source": [
    "**Weighted Average Cost of Capital:**\n",
    "\n",
    "**WACC** = $ r_{EK} * \\dfrac{EK}{GK} + r_{FK} *  \\dfrac{FK}{GK}$\n",
    "\n",
    "wobei $ r_{EK} $\n",
    "$r_{FK}$\n",
    "\n",
    "$EK$ = Eigenkapitalwert\n",
    "\n",
    "$FK$ = Fremdkapitalwert\n",
    "\n",
    "$GK$ = Gesamtkapitalwert"
   ]
  },
  {
   "cell_type": "markdown",
   "metadata": {},
   "source": [
    " **Ermittlung des Diskontierungszinssatzes:**\n",
    " \n",
    " **Captial Asset Pricing Model (CAPM)**\n",
    " \n",
    " \n",
    " $ r_{EK} = \\beta * (r_M - r_F)$\n",
    " \n",
    "  wobei $r_M - r_F$ =  Marktrisikoprämie \n",
    "        $\\beta$ = Beta-Faktor \n",
    "        $\\alpha*\\beta$ = Risikozuschlag "
   ]
  },
  {
   "cell_type": "code",
   "execution_count": null,
   "metadata": {},
   "outputs": [],
   "source": []
  },
  {
   "cell_type": "code",
   "execution_count": null,
   "metadata": {},
   "outputs": [],
   "source": []
  }
 ],
 "metadata": {
  "kernelspec": {
   "display_name": "Python 3",
   "language": "python",
   "name": "python3"
  },
  "language_info": {
   "codemirror_mode": {
    "name": "ipython",
    "version": 3
   },
   "file_extension": ".py",
   "mimetype": "text/x-python",
   "name": "python",
   "nbconvert_exporter": "python",
   "pygments_lexer": "ipython3",
   "version": "3.7.6"
  },
  "latex_envs": {
   "LaTeX_envs_menu_present": true,
   "autoclose": false,
   "autocomplete": true,
   "bibliofile": "biblio.bib",
   "cite_by": "apalike",
   "current_citInitial": 1,
   "eqLabelWithNumbers": true,
   "eqNumInitial": 1,
   "hotkeys": {
    "equation": "Ctrl-E",
    "itemize": "Ctrl-I"
   },
   "labels_anchors": false,
   "latex_user_defs": false,
   "report_style_numbering": false,
   "user_envs_cfg": false
  }
 },
 "nbformat": 4,
 "nbformat_minor": 4
}
